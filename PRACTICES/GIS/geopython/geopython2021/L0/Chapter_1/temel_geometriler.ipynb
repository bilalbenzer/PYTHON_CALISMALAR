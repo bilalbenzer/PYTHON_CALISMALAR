{
 "cells": [
  {
   "cell_type": "code",
   "execution_count": 80,
   "id": "083c3fbb-2d45-452f-94c8-0690c69a1954",
   "metadata": {},
   "outputs": [],
   "source": [
    "from shapely.geometry import Point, LineString, Polygon"
   ]
  },
  {
   "cell_type": "code",
   "execution_count": 81,
   "id": "0df69b29-9251-474d-952d-a74184d2dcc3",
   "metadata": {},
   "outputs": [],
   "source": [
    "# geometrilerin oluşturulması"
   ]
  },
  {
   "cell_type": "code",
   "execution_count": 82,
   "id": "2cf2997c-81c1-4770-a24c-4d6b3af180f3",
   "metadata": {},
   "outputs": [],
   "source": [
    "point1 = Point(2.2,4.2)"
   ]
  },
  {
   "cell_type": "code",
   "execution_count": 83,
   "id": "8a607d86-da30-4635-9d3a-bcc938ce1f9b",
   "metadata": {},
   "outputs": [],
   "source": [
    "point2 = Point(7.2, -25.1)"
   ]
  },
  {
   "cell_type": "code",
   "execution_count": 84,
   "id": "f20a287a-8aee-4ca2-bb56-7dec35b8221a",
   "metadata": {},
   "outputs": [],
   "source": [
    "point3 = Point(9.26,-2.456)"
   ]
  },
  {
   "cell_type": "code",
   "execution_count": 85,
   "id": "afb5f3ca-0531-4463-9a26-4f1fe720ae76",
   "metadata": {},
   "outputs": [],
   "source": [
    "point3d = Point(9.26,-2.456,0.57)"
   ]
  },
  {
   "cell_type": "code",
   "execution_count": 86,
   "id": "bafdea87-acb6-4afd-92fe-7c2e8ae3cc83",
   "metadata": {},
   "outputs": [],
   "source": [
    "point_type = type(point1)"
   ]
  },
  {
   "cell_type": "code",
   "execution_count": 87,
   "id": "30e8197d-5bca-4246-bd07-3a000f821a9d",
   "metadata": {},
   "outputs": [
    {
     "name": "stdout",
     "output_type": "stream",
     "text": [
      "POINT (2.2 4.2)\n"
     ]
    }
   ],
   "source": [
    "print(point1)"
   ]
  },
  {
   "cell_type": "code",
   "execution_count": 88,
   "id": "525b1141-c81a-4601-bd72-a2787180bfc4",
   "metadata": {},
   "outputs": [
    {
     "name": "stdout",
     "output_type": "stream",
     "text": [
      "POINT Z (9.26 -2.456 0.57)\n"
     ]
    }
   ],
   "source": [
    "print(point3d)"
   ]
  },
  {
   "cell_type": "code",
   "execution_count": 89,
   "id": "82efe708-52c2-41bd-a44a-4d646472a854",
   "metadata": {},
   "outputs": [
    {
     "name": "stdout",
     "output_type": "stream",
     "text": [
      "<class 'shapely.geometry.point.Point'>\n"
     ]
    }
   ],
   "source": [
    "print(point_type)"
   ]
  },
  {
   "cell_type": "code",
   "execution_count": 90,
   "id": "1def8e3b-f00e-4e95-9a69-b5f4f0ec1254",
   "metadata": {},
   "outputs": [],
   "source": [
    "# noktaların koordinatlarının gösterilmesi"
   ]
  },
  {
   "cell_type": "code",
   "execution_count": 91,
   "id": "cd41a9f6-6d22-47e5-ac9b-bd5cbef1d834",
   "metadata": {},
   "outputs": [],
   "source": [
    "point_coords = point1.coords"
   ]
  },
  {
   "cell_type": "code",
   "execution_count": 92,
   "id": "7a67e4a9-ae23-46cc-b25c-83334c4f6860",
   "metadata": {},
   "outputs": [
    {
     "data": {
      "text/plain": [
       "shapely.coords.CoordinateSequence"
      ]
     },
     "execution_count": 92,
     "metadata": {},
     "output_type": "execute_result"
    }
   ],
   "source": [
    "type(point_coords)"
   ]
  },
  {
   "cell_type": "code",
   "execution_count": 93,
   "id": "ac869bb5-9343-4353-9f90-a9c7b4833314",
   "metadata": {},
   "outputs": [],
   "source": [
    "xy = point_coords.xy"
   ]
  },
  {
   "cell_type": "code",
   "execution_count": 94,
   "id": "538c4567-8368-4bba-854f-bacaff7109e7",
   "metadata": {},
   "outputs": [],
   "source": [
    "x = point1.x"
   ]
  },
  {
   "cell_type": "code",
   "execution_count": 95,
   "id": "afe3788d-cee3-46f4-89db-9915d9e4d4a2",
   "metadata": {},
   "outputs": [],
   "source": [
    "y = point1.y"
   ]
  },
  {
   "cell_type": "code",
   "execution_count": 96,
   "id": "c3f63880-bd43-417c-ade3-a169bcbb78ce",
   "metadata": {},
   "outputs": [
    {
     "name": "stdout",
     "output_type": "stream",
     "text": [
      "(array('d', [2.2]), array('d', [4.2]))\n"
     ]
    }
   ],
   "source": [
    "print(xy)"
   ]
  },
  {
   "cell_type": "code",
   "execution_count": 97,
   "id": "a64ae926-1efa-4e9a-be1e-e414806ae682",
   "metadata": {},
   "outputs": [
    {
     "name": "stdout",
     "output_type": "stream",
     "text": [
      "2.2\n"
     ]
    }
   ],
   "source": [
    "print(x)"
   ]
  },
  {
   "cell_type": "code",
   "execution_count": 98,
   "id": "1058dfdf-94fb-41e1-a4fe-5c24234207c9",
   "metadata": {},
   "outputs": [
    {
     "name": "stdout",
     "output_type": "stream",
     "text": [
      "4.2\n"
     ]
    }
   ],
   "source": [
    "print(y)"
   ]
  },
  {
   "cell_type": "code",
   "execution_count": 99,
   "id": "ec8208f1-3765-4778-84e1-21483640f75e",
   "metadata": {},
   "outputs": [],
   "source": [
    "# 2 nokta arasındaki mesafenin ölçülmesi"
   ]
  },
  {
   "cell_type": "code",
   "execution_count": 100,
   "id": "3d2cfc5c-7cda-4642-96ab-1965c7600232",
   "metadata": {},
   "outputs": [],
   "source": [
    "point_dist = point1.distance(point2)"
   ]
  },
  {
   "cell_type": "code",
   "execution_count": 101,
   "id": "a83e6895-22cd-419d-8aa7-085b98aced4a",
   "metadata": {},
   "outputs": [
    {
     "name": "stdout",
     "output_type": "stream",
     "text": [
      "2 Nokta arasındaki mesafe 29.724\n"
     ]
    }
   ],
   "source": [
    "print(\"2 Nokta arasındaki mesafe {0:.3f}\".format(point_dist))"
   ]
  },
  {
   "cell_type": "code",
   "execution_count": 102,
   "id": "a95d0bcd-740b-4ec9-a671-a011f29aef60",
   "metadata": {},
   "outputs": [],
   "source": [
    "#wgs84 e göre hesap yapma"
   ]
  },
  {
   "cell_type": "code",
   "execution_count": 103,
   "id": "12ebd5bd-0351-4077-b3ef-9e06c583e6de",
   "metadata": {},
   "outputs": [],
   "source": [
    "import pyproj"
   ]
  },
  {
   "cell_type": "code",
   "execution_count": 104,
   "id": "e1907497-cc76-4822-aec5-a695bf9f242d",
   "metadata": {},
   "outputs": [],
   "source": [
    "geod = pyproj.Geod(ellps = \"WGS84\")"
   ]
  },
  {
   "cell_type": "code",
   "execution_count": 105,
   "id": "3fbdf7c3-e3ea-4fb8-8e9c-ed54031cebd6",
   "metadata": {},
   "outputs": [],
   "source": [
    "angle1, angle2, distance = geod.inv(point1.x,point1.y,point2.x,point2.y)"
   ]
  },
  {
   "cell_type": "code",
   "execution_count": 106,
   "id": "031e043b-f35b-4d0e-89e9-75d4fd16a336",
   "metadata": {},
   "outputs": [
    {
     "name": "stdout",
     "output_type": "stream",
     "text": [
      "WGS84 koordinat sistemine göre point1 ve point 2 arasındaki mesafe:\n",
      "3286.3538\n"
     ]
    }
   ],
   "source": [
    "print(\"WGS84 koordinat sistemine göre point1 ve point 2 arasındaki mesafe:\\n{0:8.4f}\".format(distance/1000))"
   ]
  },
  {
   "cell_type": "code",
   "execution_count": 107,
   "id": "0d9bded9-0386-4f91-af03-d1be75d73264",
   "metadata": {},
   "outputs": [],
   "source": [
    "#çizgi oluşturma ve metotları"
   ]
  },
  {
   "cell_type": "code",
   "execution_count": 108,
   "id": "918c6928-84eb-4e8d-ad1e-2493860a48e9",
   "metadata": {},
   "outputs": [],
   "source": [
    "line = LineString([point1,point2,point3])  #çizgi oluşturma(nokta değişkenleri ile)"
   ]
  },
  {
   "cell_type": "code",
   "execution_count": 109,
   "id": "72de8324-d3e9-4632-8bcc-bf9ab5e58afa",
   "metadata": {},
   "outputs": [],
   "source": [
    "line2 = LineString([(2.2,4.2), (7.2,-25.1), (9.26,-2.456)])   #koordinatlar ile çizgi oluşturma"
   ]
  },
  {
   "cell_type": "code",
   "execution_count": 110,
   "id": "2a829606-9997-4006-9f20-89bc75d3f6e2",
   "metadata": {},
   "outputs": [
    {
     "name": "stdout",
     "output_type": "stream",
     "text": [
      "LINESTRING (2.2 4.2, 7.2 -25.1, 9.26 -2.456)\n"
     ]
    }
   ],
   "source": [
    "print(line)"
   ]
  },
  {
   "cell_type": "code",
   "execution_count": 111,
   "id": "08fd477f-b85e-4b4e-9193-97f786b18445",
   "metadata": {},
   "outputs": [
    {
     "name": "stdout",
     "output_type": "stream",
     "text": [
      "LINESTRING (2.2 4.2, 7.2 -25.1, 9.26 -2.456)\n"
     ]
    }
   ],
   "source": [
    "print(line2)"
   ]
  },
  {
   "cell_type": "code",
   "execution_count": 112,
   "id": "3509afc8-9b84-4e2d-ba9a-2924ace933f9",
   "metadata": {},
   "outputs": [
    {
     "name": "stdout",
     "output_type": "stream",
     "text": [
      "<class 'shapely.geometry.linestring.LineString'>\n"
     ]
    }
   ],
   "source": [
    "print(type(line))"
   ]
  },
  {
   "cell_type": "code",
   "execution_count": 113,
   "id": "cd4c73a3-2b84-4729-a19a-14bb6c6de866",
   "metadata": {},
   "outputs": [],
   "source": [
    "#çizgi koordinatlarını görme"
   ]
  },
  {
   "cell_type": "code",
   "execution_count": 114,
   "id": "3dcb8223-7f3b-4d83-9aa7-abf86572bb93",
   "metadata": {},
   "outputs": [],
   "source": [
    "lxy = line.xy #x ve y koordinatlarını alma"
   ]
  },
  {
   "cell_type": "code",
   "execution_count": 115,
   "id": "f6c5d712-63ff-4577-ace1-27491e55f327",
   "metadata": {},
   "outputs": [
    {
     "name": "stdout",
     "output_type": "stream",
     "text": [
      "(array('d', [2.2, 7.2, 9.26]), array('d', [4.2, -25.1, -2.456]))\n"
     ]
    }
   ],
   "source": [
    "print(lxy)"
   ]
  },
  {
   "cell_type": "code",
   "execution_count": 116,
   "id": "7682d094-b97b-498f-8a54-b76363cbbc83",
   "metadata": {},
   "outputs": [],
   "source": [
    "#üstte x ve y lerin dizi olarak saklandığını görmekteyiz. Buradan x ve y yi ayrı ayrı çekebiliriz."
   ]
  },
  {
   "cell_type": "code",
   "execution_count": 117,
   "id": "20bd3045-b3fc-4e8c-8a68-31d116748883",
   "metadata": {},
   "outputs": [
    {
     "name": "stdout",
     "output_type": "stream",
     "text": [
      "array('d', [2.2, 7.2, 9.26])\n"
     ]
    }
   ],
   "source": [
    "line_x = lxy[0]\n",
    "print(line_x)"
   ]
  },
  {
   "cell_type": "code",
   "execution_count": 118,
   "id": "b9fbce2e-f198-465d-b5b3-1ac33db806c0",
   "metadata": {},
   "outputs": [
    {
     "name": "stdout",
     "output_type": "stream",
     "text": [
      "array('d', [4.2, -25.1, -2.456])\n"
     ]
    }
   ],
   "source": [
    "line_y = lxy[1]\n",
    "print(line_y)"
   ]
  },
  {
   "cell_type": "code",
   "execution_count": 119,
   "id": "8c189c97-e739-4f7a-8b2f-7749272a74ef",
   "metadata": {},
   "outputs": [],
   "source": [
    "#çizginin uzunluğunu bulma"
   ]
  },
  {
   "cell_type": "code",
   "execution_count": 120,
   "id": "7ad97ddb-210e-458f-a5a2-9622efeb0cdc",
   "metadata": {},
   "outputs": [
    {
     "name": "stdout",
     "output_type": "stream",
     "text": [
      "52.461\n"
     ]
    }
   ],
   "source": [
    "l_length = line.length\n",
    "l_length = str(l_length)\n",
    "print(l_length[0:6])"
   ]
  },
  {
   "cell_type": "code",
   "execution_count": 121,
   "id": "15f65b33-e588-4714-9486-241d1fc31e3c",
   "metadata": {},
   "outputs": [],
   "source": [
    "#çizginin ağırlık merkezinin koordinatlarını bulma"
   ]
  },
  {
   "cell_type": "code",
   "execution_count": 122,
   "id": "1eceb9d6-5520-4f43-a355-645e77136286",
   "metadata": {},
   "outputs": [
    {
     "name": "stdout",
     "output_type": "stream",
     "text": [
      "POINT (6.229961354035622 -11.89241115757239)\n",
      "<class 'shapely.geometry.point.Point'>\n"
     ]
    }
   ],
   "source": [
    "l_centroid = line.centroid\n",
    "centroid_Type = type(l_centroid)\n",
    "print(l_centroid)\n",
    "print(centroid_Type)"
   ]
  },
  {
   "cell_type": "code",
   "execution_count": 123,
   "id": "f69bbc12-50bc-457b-8c10-155970539b13",
   "metadata": {},
   "outputs": [],
   "source": [
    "# poligon oluşturma"
   ]
  },
  {
   "cell_type": "code",
   "execution_count": 124,
   "id": "ff4d9503-095b-4e11-a35a-d50f3ef40bfd",
   "metadata": {},
   "outputs": [],
   "source": [
    "poly = Polygon([(2.2,4.2) , (7.2,-25.1), (9.26, -2.456)])       #koordinatlar ile poligon oluşturma"
   ]
  },
  {
   "cell_type": "code",
   "execution_count": 125,
   "id": "66557757-c8cb-496e-ad40-7d048e68d991",
   "metadata": {},
   "outputs": [],
   "source": [
    "poly2 =Polygon([[p.x,p.y] for p in [point1,point2,point3]]) #point noktaları ile poligon oluşturma (tırnaklara dikkat)"
   ]
  },
  {
   "cell_type": "code",
   "execution_count": 126,
   "id": "bf37185f-7ab5-4ac0-99e3-a03302fff550",
   "metadata": {},
   "outputs": [],
   "source": [
    "poly_type  = poly.geom_type"
   ]
  },
  {
   "cell_type": "code",
   "execution_count": 127,
   "id": "04b88443-e689-475b-8db4-c4663b9dc01e",
   "metadata": {},
   "outputs": [],
   "source": [
    "poly_type2 = type(poly)"
   ]
  },
  {
   "cell_type": "code",
   "execution_count": 128,
   "id": "ff1a0c6d-84c0-4c36-9fb8-180e21202f72",
   "metadata": {},
   "outputs": [
    {
     "name": "stdout",
     "output_type": "stream",
     "text": [
      "POLYGON ((2.2 4.2, 7.2 -25.1, 9.26 -2.456, 2.2 4.2))\n"
     ]
    }
   ],
   "source": [
    "print(poly)"
   ]
  },
  {
   "cell_type": "code",
   "execution_count": 129,
   "id": "c6f608e1-2339-46a3-81aa-868bb990e9a3",
   "metadata": {},
   "outputs": [
    {
     "name": "stdout",
     "output_type": "stream",
     "text": [
      "POLYGON ((2.2 4.2, 7.2 -25.1, 9.26 -2.456, 2.2 4.2))\n"
     ]
    }
   ],
   "source": [
    "print(poly2)"
   ]
  },
  {
   "cell_type": "code",
   "execution_count": 130,
   "id": "7e31c588-4c7c-478c-a603-2fcb4a0ec9da",
   "metadata": {},
   "outputs": [
    {
     "name": "stdout",
     "output_type": "stream",
     "text": [
      "<class 'shapely.geometry.polygon.Polygon'>\n"
     ]
    }
   ],
   "source": [
    "print(poly_type2)"
   ]
  },
  {
   "cell_type": "code",
   "execution_count": 131,
   "id": "3036d0f2-437c-4467-af49-8407e93a7cfa",
   "metadata": {},
   "outputs": [
    {
     "name": "stdout",
     "output_type": "stream",
     "text": [
      "Polygon\n"
     ]
    }
   ],
   "source": [
    "print(poly_type)"
   ]
  },
  {
   "cell_type": "code",
   "execution_count": 132,
   "id": "6270b144-55f5-4202-aca5-d09d814ace6f",
   "metadata": {},
   "outputs": [],
   "source": [
    "# poligonların içi delikli olabilir. bunu sağlarkenki kod dizlimi aşağıdaki gibidir."
   ]
  },
  {
   "cell_type": "code",
   "execution_count": 133,
   "id": "5f273889-1f5d-4a4b-82ba-ad0692f911ef",
   "metadata": {},
   "outputs": [],
   "source": [
    "world_exterior = [(-180,90) , (-180,-90), (180,-90), (180,90)]        #dış koordinatlar"
   ]
  },
  {
   "cell_type": "code",
   "execution_count": 134,
   "id": "1364d303-1213-4ee3-8bf6-6ea234d5fe08",
   "metadata": {},
   "outputs": [],
   "source": [
    "hole = [[(-170,80),(-170,-80),(170,-80),(170,80)]] #delik"
   ]
  },
  {
   "cell_type": "code",
   "execution_count": 135,
   "id": "769e24db-0291-4d9d-beed-8255080090ea",
   "metadata": {},
   "outputs": [],
   "source": [
    "world = Polygon(shell=world_exterior)   #dış çizgi ile deliğin birlikte olduğu alan"
   ]
  },
  {
   "cell_type": "code",
   "execution_count": 136,
   "id": "3c245fbd-fa88-4ec7-9911-eba7ca0d1b33",
   "metadata": {},
   "outputs": [],
   "source": [
    "world_has_a_hole = Polygon(shell=world_exterior,holes=hole) #delikli polygon"
   ]
  },
  {
   "cell_type": "code",
   "execution_count": 137,
   "id": "e486d9aa-9e99-4bff-b497-75204dd49640",
   "metadata": {},
   "outputs": [
    {
     "name": "stdout",
     "output_type": "stream",
     "text": [
      "POLYGON ((-180 90, -180 -90, 180 -90, 180 90, -180 90))\n"
     ]
    }
   ],
   "source": [
    "print(world)"
   ]
  },
  {
   "cell_type": "code",
   "execution_count": 138,
   "id": "33e139d7-b9ac-4010-b367-0bad7e500025",
   "metadata": {},
   "outputs": [
    {
     "name": "stdout",
     "output_type": "stream",
     "text": [
      "POLYGON ((-180 90, -180 -90, 180 -90, 180 90, -180 90), (-170 80, -170 -80, 170 -80, 170 80, -170 80))\n"
     ]
    }
   ],
   "source": [
    "print(world_has_a_hole)"
   ]
  },
  {
   "cell_type": "code",
   "execution_count": 139,
   "id": "94799924-1269-4bc2-be81-39c2e2541816",
   "metadata": {},
   "outputs": [
    {
     "data": {
      "text/plain": [
       "shapely.geometry.polygon.Polygon"
      ]
     },
     "execution_count": 139,
     "metadata": {},
     "output_type": "execute_result"
    }
   ],
   "source": [
    "type(world_has_a_hole)"
   ]
  },
  {
   "cell_type": "code",
   "execution_count": 140,
   "id": "38eaa544-0573-401a-b0d0-f0533a5b5329",
   "metadata": {},
   "outputs": [],
   "source": [
    "#poligon metotları"
   ]
  },
  {
   "cell_type": "code",
   "execution_count": 141,
   "id": "5088f080-beb0-4e4b-a190-1c63b754dbc0",
   "metadata": {},
   "outputs": [],
   "source": [
    "#ağırlık merkezi\n",
    "world_centroid = world.centroid"
   ]
  },
  {
   "cell_type": "code",
   "execution_count": 142,
   "id": "af675473-3e10-40b9-b582-f5d848d84c47",
   "metadata": {},
   "outputs": [],
   "source": [
    "#alan miktarı\n",
    "world_area = world.area"
   ]
  },
  {
   "cell_type": "code",
   "execution_count": 143,
   "id": "b578d529-f895-4e03-85c4-955d36336088",
   "metadata": {},
   "outputs": [],
   "source": [
    "#polygon sınırlarının koordinatları\n",
    "world_bbox = world.bounds"
   ]
  },
  {
   "cell_type": "code",
   "execution_count": 144,
   "id": "74d51f98-d58c-4cb6-8635-2b8e7b020d4e",
   "metadata": {},
   "outputs": [],
   "source": [
    "#dış sınırlar\n",
    "world_ext = world.exterior"
   ]
  },
  {
   "cell_type": "code",
   "execution_count": 145,
   "id": "cf225fcf-13bd-4726-913b-d4a2a2bb0408",
   "metadata": {},
   "outputs": [],
   "source": [
    "#dış sınırın uzunluğu\n",
    "world_ext_length = world_ext.length"
   ]
  },
  {
   "cell_type": "code",
   "execution_count": 146,
   "id": "dbb98edf-604b-4104-9600-53f4ce586407",
   "metadata": {},
   "outputs": [
    {
     "name": "stdout",
     "output_type": "stream",
     "text": [
      "ağırlık merkezi POINT (-0 -0)\n"
     ]
    }
   ],
   "source": [
    "print(\"ağırlık merkezi\",world_centroid)"
   ]
  },
  {
   "cell_type": "code",
   "execution_count": 147,
   "id": "02f3b93e-6f31-4010-8c2e-82fe74142d73",
   "metadata": {},
   "outputs": [
    {
     "name": "stdout",
     "output_type": "stream",
     "text": [
      "poligon alanı 64800.0\n"
     ]
    }
   ],
   "source": [
    "print(\"poligon alanı\",world_area)"
   ]
  },
  {
   "cell_type": "code",
   "execution_count": 148,
   "id": "261ee8b5-82fc-499c-ab6c-d8f9d00e67eb",
   "metadata": {},
   "outputs": [
    {
     "name": "stdout",
     "output_type": "stream",
     "text": [
      "Dış sınır çerçeve koordinatları (-180.0, -90.0, 180.0, 90.0)\n"
     ]
    }
   ],
   "source": [
    "print(\"Dış sınır çerçeve koordinatları\",world_bbox)"
   ]
  },
  {
   "cell_type": "code",
   "execution_count": 149,
   "id": "2e3d24dd-c083-453c-b33d-977ae14fdc95",
   "metadata": {},
   "outputs": [
    {
     "name": "stdout",
     "output_type": "stream",
     "text": [
      "poligon dış sınırı LINEARRING (-180 90, -180 -90, 180 -90, 180 90, -180 90)\n"
     ]
    }
   ],
   "source": [
    "print(\"poligon dış sınırı\",world_ext)"
   ]
  },
  {
   "cell_type": "code",
   "execution_count": 150,
   "id": "2ce8d68b-a332-4f88-a669-a3213de3224c",
   "metadata": {},
   "outputs": [
    {
     "name": "stdout",
     "output_type": "stream",
     "text": [
      "poligon dış sınır uzunluğu 1080.0\n"
     ]
    }
   ],
   "source": [
    "print(\"poligon dış sınır uzunluğu\",world_ext_length)"
   ]
  },
  {
   "cell_type": "code",
   "execution_count": 151,
   "id": "90b32866-31e9-4e82-9c06-9a9e143de2d6",
   "metadata": {},
   "outputs": [],
   "source": [
    "#çoklu geometri oluşturma\n",
    "#bunu arcgisteki 1 shp dosyasında birden fazla geometri olması ile bağdaştırabiliriz.\n",
    "\n"
   ]
  },
  {
   "cell_type": "code",
   "execution_count": 152,
   "id": "15b98ece-af0b-4ca5-b427-31d6870fab05",
   "metadata": {},
   "outputs": [],
   "source": [
    "from shapely.geometry import MultiPoint, MultiLineString, MultiPolygon, box\n"
   ]
  },
  {
   "cell_type": "code",
   "execution_count": 154,
   "id": "af7ef049-bcff-45e3-b5e2-4ba7f8da4c8b",
   "metadata": {},
   "outputs": [],
   "source": [
    "multi_point = MultiPoint([point1,point2,point3])      #çoklu nokta oluşturma, varolan değişkenler ile"
   ]
  },
  {
   "cell_type": "code",
   "execution_count": 156,
   "id": "1caf8cc8-452b-4f12-a0bf-59f9a6123d94",
   "metadata": {},
   "outputs": [],
   "source": [
    "multi_point2 = MultiPoint([(2.2,4.2),(7.2,-25.1),(9.26,-2.456)])     #çoklu nokta oluşturma, koordinatlar ile"
   ]
  },
  {
   "cell_type": "code",
   "execution_count": 157,
   "id": "4b31d85c-68ef-4368-b94b-90872d5e1105",
   "metadata": {},
   "outputs": [],
   "source": [
    "line1 = LineString([point1,point2])"
   ]
  },
  {
   "cell_type": "code",
   "execution_count": 158,
   "id": "58ffe6c9-7c06-4d5a-84a6-ecf8cd905502",
   "metadata": {},
   "outputs": [],
   "source": [
    "line2 = LineString([point2,point3])"
   ]
  },
  {
   "cell_type": "code",
   "execution_count": 160,
   "id": "eb7cebc0-b0b9-4eb9-8b48-1bc6536d5e17",
   "metadata": {},
   "outputs": [],
   "source": [
    "multi_line = MultiLineString([line1,line2])        #çoklu çizgi oluşturma"
   ]
  },
  {
   "cell_type": "code",
   "execution_count": 161,
   "id": "c912432c-3ce3-469f-9101-bffd9825f13c",
   "metadata": {},
   "outputs": [],
   "source": [
    "#multi poligon da benzer şekilde yapılabilir. poligonun delikli olabilecğeini gözardı etmemek gerek\n",
    "#şimdi batı yarım kürede bir delik ile dünyayı batı ve doğuya ayıracağız\n"
   ]
  },
  {
   "cell_type": "code",
   "execution_count": 162,
   "id": "224884ce-4659-41bf-88cc-5056712d406e",
   "metadata": {},
   "outputs": [],
   "source": [
    "#dünyanın batı kısmının dışı\n",
    "west_exterior = [(-180,90),(-180,-90),(0,-90),(0,90)]"
   ]
  },
  {
   "cell_type": "code",
   "execution_count": 164,
   "id": "234666f2-f74e-4595-a4eb-51f39cd5557a",
   "metadata": {},
   "outputs": [],
   "source": [
    "#batıda bir delik oluşturalum\n",
    "west_hole = [[(-170,80),(-170,-80),(-10,80)]]"
   ]
  },
  {
   "cell_type": "code",
   "execution_count": 165,
   "id": "5279ec6f-4037-42d1-b0c9-62adfd295a06",
   "metadata": {},
   "outputs": [],
   "source": [
    "#poligonumuzu oluşturalım\n",
    "west_poly = Polygon(shell=west_exterior,holes = west_hole)"
   ]
  },
  {
   "cell_type": "code",
   "execution_count": 167,
   "id": "2b2e9587-4602-438b-ba1a-50d08ba67cc7",
   "metadata": {},
   "outputs": [],
   "source": [
    "#doğu kısmı için sınırlayıcı kutu kullancağız. yani sağ alt ve sol üst koordinat yeterli\n",
    "#sınırlayıcı kutu aşağıda\n",
    "min_x,min_y = 0,-90\n",
    "max_x,max_y = 100,90"
   ]
  },
  {
   "cell_type": "code",
   "execution_count": 169,
   "id": "b6b9951c-6cd9-4f86-835c-7ecf7c74886f",
   "metadata": {},
   "outputs": [],
   "source": [
    "#sınırlayıcı kutu ile bir polgon oluşturalım\n",
    "east_poly_box = box(minx=min_x,miny=min_y,maxx=max_x,maxy=max_y)"
   ]
  },
  {
   "cell_type": "code",
   "execution_count": 170,
   "id": "3d9fe1f5-996f-45ec-a618-601d21b75acd",
   "metadata": {},
   "outputs": [],
   "source": [
    "#şimdi çoklu poligonumuzu oluştabiliriz. elimizde 2 tane poligon var artık"
   ]
  },
  {
   "cell_type": "code",
   "execution_count": 172,
   "id": "d22266a0-9b74-46cb-a1e2-ca915c18d12e",
   "metadata": {},
   "outputs": [],
   "source": [
    "#multipolionumuz\n",
    "multi_poly = MultiPolygon([west_poly,east_poly_box])"
   ]
  },
  {
   "cell_type": "code",
   "execution_count": 173,
   "id": "eabf9924-1c5e-4db4-a62d-ceffd88aa0b4",
   "metadata": {},
   "outputs": [],
   "source": [
    "#artık multi nesnelerimizin nasıl ggöründüklerine bakabilriz\n"
   ]
  },
  {
   "cell_type": "code",
   "execution_count": 174,
   "id": "03365b91-15d2-4f60-ac8d-de62c7bd42ce",
   "metadata": {},
   "outputs": [
    {
     "name": "stdout",
     "output_type": "stream",
     "text": [
      "MultiPoint: MULTIPOINT (2.2 4.2, 7.2 -25.1, 9.26 -2.456)\n"
     ]
    }
   ],
   "source": [
    "print(\"MultiPoint:\",multi_point)"
   ]
  },
  {
   "cell_type": "code",
   "execution_count": 175,
   "id": "24f10ec5-8679-4528-bb04-0431e9d9ffe7",
   "metadata": {},
   "outputs": [
    {
     "name": "stdout",
     "output_type": "stream",
     "text": [
      "MultiLine: MULTILINESTRING ((2.2 4.2, 7.2 -25.1), (7.2 -25.1, 9.26 -2.456))\n"
     ]
    }
   ],
   "source": [
    "print(\"MultiLine:\",multi_line)"
   ]
  },
  {
   "cell_type": "code",
   "execution_count": 176,
   "id": "9d2bf712-71c4-489f-a38f-9631ddd4899d",
   "metadata": {},
   "outputs": [
    {
     "name": "stdout",
     "output_type": "stream",
     "text": [
      "sınırlayıcı kutu : POLYGON ((100 -90, 100 90, 0 90, 0 -90, 100 -90))\n"
     ]
    }
   ],
   "source": [
    "print(\"sınırlayıcı kutu :\",east_poly_box)"
   ]
  },
  {
   "cell_type": "code",
   "execution_count": 177,
   "id": "11e889d5-3cb5-4d47-a179-3165bb2f19b0",
   "metadata": {},
   "outputs": [
    {
     "name": "stdout",
     "output_type": "stream",
     "text": [
      "Multi Poligon : MULTIPOLYGON (((-180 90, -180 -90, 0 -90, 0 90, -180 90), (-170 80, -170 -80, -10 80, -170 80)), ((100 -90, 100 90, 0 90, 0 -90, 100 -90)))\n"
     ]
    }
   ],
   "source": [
    "print(\"Multi Poligon :\",multi_poly)"
   ]
  },
  {
   "cell_type": "code",
   "execution_count": 178,
   "id": "c05d8700-8b42-41c9-b65c-c86a8ca7778a",
   "metadata": {},
   "outputs": [],
   "source": [
    "#çoklu nesnelerin de metotları bulunmakta."
   ]
  },
  {
   "cell_type": "code",
   "execution_count": 179,
   "id": "2019e430-b743-4fdd-8424-701026a4c03d",
   "metadata": {},
   "outputs": [],
   "source": [
    "#çoklu noktaların dış bükeyini alma\n",
    "convex = multi_point.convex_hull"
   ]
  },
  {
   "cell_type": "code",
   "execution_count": 180,
   "id": "c1baf0ba-ba4f-4159-ada3-9fecd9e1316d",
   "metadata": {},
   "outputs": [],
   "source": [
    "#çoklu çizgimizde kaç çizgi var ?\n",
    "lines_count = len(multi_line)"
   ]
  },
  {
   "cell_type": "code",
   "execution_count": 181,
   "id": "e061a8a9-f785-4c3e-b8dc-55e9316ef9e0",
   "metadata": {},
   "outputs": [],
   "source": [
    "#multipoligonun alanı\n",
    "multi_poly_area=multi_poly.area"
   ]
  },
  {
   "cell_type": "code",
   "execution_count": 182,
   "id": "d7fafa8a-e721-4329-9d1d-46bb13f06f41",
   "metadata": {},
   "outputs": [],
   "source": [
    "#mltipoligondaki bir poligona da ulaşabiliriz\n",
    "#meselea çoklupoligonumuzda batı kısmının alanını bulalım\n",
    "west_area = multi_poly[0].area"
   ]
  },
  {
   "cell_type": "code",
   "execution_count": 183,
   "id": "5fb709b5-697d-4cbe-a0ee-f6bf2dc8cf94",
   "metadata": {},
   "outputs": [],
   "source": [
    "#çoklu poligonlarda topolojik hata kontrolü yapabiliriz\n",
    "valid = multi_poly.is_valid"
   ]
  },
  {
   "cell_type": "code",
   "execution_count": 184,
   "id": "6ffecf2c-6800-4610-8840-6da7be58802e",
   "metadata": {},
   "outputs": [],
   "source": [
    "#komutların çıktılarına bakalım"
   ]
  },
  {
   "cell_type": "code",
   "execution_count": 185,
   "id": "a3399aef-e9f3-4de3-b64a-c7e20edcf57a",
   "metadata": {},
   "outputs": [
    {
     "name": "stdout",
     "output_type": "stream",
     "text": [
      "POLYGON ((7.2 -25.1, 2.2 4.2, 9.26 -2.456, 7.2 -25.1))\n"
     ]
    }
   ],
   "source": [
    "print(convex)"
   ]
  },
  {
   "cell_type": "code",
   "execution_count": 186,
   "id": "1ede502f-3519-4d90-9406-c6a0ce128b45",
   "metadata": {},
   "outputs": [
    {
     "name": "stdout",
     "output_type": "stream",
     "text": [
      "2\n"
     ]
    }
   ],
   "source": [
    "print(lines_count)"
   ]
  },
  {
   "cell_type": "code",
   "execution_count": 187,
   "id": "84a7994d-948c-4543-9c4e-7a5b37de68b0",
   "metadata": {},
   "outputs": [
    {
     "name": "stdout",
     "output_type": "stream",
     "text": [
      "37600.0\n"
     ]
    }
   ],
   "source": [
    "print(multi_poly_area)"
   ]
  },
  {
   "cell_type": "code",
   "execution_count": 188,
   "id": "86188539-aa6f-4a38-b226-48ba037d3824",
   "metadata": {},
   "outputs": [
    {
     "name": "stdout",
     "output_type": "stream",
     "text": [
      "19600.0\n"
     ]
    }
   ],
   "source": [
    "print(west_area)"
   ]
  },
  {
   "cell_type": "code",
   "execution_count": 189,
   "id": "81337469-3f0e-4754-b61d-38a02fb683ef",
   "metadata": {},
   "outputs": [
    {
     "name": "stdout",
     "output_type": "stream",
     "text": [
      "False\n"
     ]
    }
   ],
   "source": [
    "print(valid)"
   ]
  },
  {
   "cell_type": "code",
   "execution_count": null,
   "id": "491a717e-fd90-423f-9fc2-3e45de0c2500",
   "metadata": {},
   "outputs": [],
   "source": []
  }
 ],
 "metadata": {
  "kernelspec": {
   "display_name": "geopython",
   "language": "python",
   "name": "geopython"
  },
  "language_info": {
   "codemirror_mode": {
    "name": "ipython",
    "version": 3
   },
   "file_extension": ".py",
   "mimetype": "text/x-python",
   "name": "python",
   "nbconvert_exporter": "python",
   "pygments_lexer": "ipython3",
   "version": "3.7.11"
  }
 },
 "nbformat": 4,
 "nbformat_minor": 5
}
