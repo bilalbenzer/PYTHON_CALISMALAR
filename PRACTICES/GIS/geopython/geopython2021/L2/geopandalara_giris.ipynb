{
 "cells": [
  {
   "cell_type": "code",
   "execution_count": 52,
   "id": "7683f0b8-97b5-4b98-a3fa-e3e44411d22e",
   "metadata": {},
   "outputs": [],
   "source": [
    "#shape dosyası okuma"
   ]
  },
  {
   "cell_type": "code",
   "execution_count": 1,
   "id": "5e2b9883-0c59-4208-8a03-c23b284c8f72",
   "metadata": {},
   "outputs": [],
   "source": [
    "import geopandas as gpd"
   ]
  },
  {
   "cell_type": "code",
   "execution_count": 54,
   "id": "0d864dd5-d071-4615-9740-844268fe3d4b",
   "metadata": {},
   "outputs": [],
   "source": [
    "fp = \"C:/Users/Bilal Benzer/Documents/GitHub/Python_Calismalarim-Python_Works_vscode/GIS/geopython/geopython2021/L2/DAMSELFISH_distributions.shp\""
   ]
  },
  {
   "cell_type": "code",
   "execution_count": 55,
   "id": "7ce03218-4515-4377-a9b4-a11b96e1d8c4",
   "metadata": {},
   "outputs": [],
   "source": [
    "data = gpd.read_file(fp)        #shape dosyası okuma"
   ]
  },
  {
   "cell_type": "code",
   "execution_count": 56,
   "id": "6e264bb7-6bcb-4362-bfcb-b0d48a49725a",
   "metadata": {},
   "outputs": [
    {
     "data": {
      "text/plain": [
       "geopandas.geodataframe.GeoDataFrame"
      ]
     },
     "execution_count": 56,
     "metadata": {},
     "output_type": "execute_result"
    }
   ],
   "source": [
    "type(data)"
   ]
  },
  {
   "cell_type": "code",
   "execution_count": 57,
   "id": "7464dacb-b21e-486d-b65d-b7edcfb2ec80",
   "metadata": {},
   "outputs": [
    {
     "data": {
      "text/html": [
       "<div>\n",
       "<style scoped>\n",
       "    .dataframe tbody tr th:only-of-type {\n",
       "        vertical-align: middle;\n",
       "    }\n",
       "\n",
       "    .dataframe tbody tr th {\n",
       "        vertical-align: top;\n",
       "    }\n",
       "\n",
       "    .dataframe thead th {\n",
       "        text-align: right;\n",
       "    }\n",
       "</style>\n",
       "<table border=\"1\" class=\"dataframe\">\n",
       "  <thead>\n",
       "    <tr style=\"text-align: right;\">\n",
       "      <th></th>\n",
       "      <th>ID_NO</th>\n",
       "      <th>BINOMIAL</th>\n",
       "      <th>ORIGIN</th>\n",
       "      <th>COMPILER</th>\n",
       "      <th>YEAR</th>\n",
       "      <th>CITATION</th>\n",
       "      <th>SOURCE</th>\n",
       "      <th>DIST_COMM</th>\n",
       "      <th>ISLAND</th>\n",
       "      <th>SUBSPECIES</th>\n",
       "      <th>...</th>\n",
       "      <th>RL_UPDATE</th>\n",
       "      <th>KINGDOM_NA</th>\n",
       "      <th>PHYLUM_NAM</th>\n",
       "      <th>CLASS_NAME</th>\n",
       "      <th>ORDER_NAME</th>\n",
       "      <th>FAMILY_NAM</th>\n",
       "      <th>GENUS_NAME</th>\n",
       "      <th>SPECIES_NA</th>\n",
       "      <th>CATEGORY</th>\n",
       "      <th>geometry</th>\n",
       "    </tr>\n",
       "  </thead>\n",
       "  <tbody>\n",
       "    <tr>\n",
       "      <th>0</th>\n",
       "      <td>183963.0</td>\n",
       "      <td>Stegastes leucorus</td>\n",
       "      <td>1</td>\n",
       "      <td>IUCN</td>\n",
       "      <td>2010</td>\n",
       "      <td>International Union for Conservation of Nature...</td>\n",
       "      <td>None</td>\n",
       "      <td>None</td>\n",
       "      <td>None</td>\n",
       "      <td>None</td>\n",
       "      <td>...</td>\n",
       "      <td>2012.1</td>\n",
       "      <td>ANIMALIA</td>\n",
       "      <td>CHORDATA</td>\n",
       "      <td>ACTINOPTERYGII</td>\n",
       "      <td>PERCIFORMES</td>\n",
       "      <td>POMACENTRIDAE</td>\n",
       "      <td>Stegastes</td>\n",
       "      <td>leucorus</td>\n",
       "      <td>VU</td>\n",
       "      <td>POLYGON ((-115.64375 29.71392, -115.61585 29.6...</td>\n",
       "    </tr>\n",
       "    <tr>\n",
       "      <th>1</th>\n",
       "      <td>183963.0</td>\n",
       "      <td>Stegastes leucorus</td>\n",
       "      <td>1</td>\n",
       "      <td>IUCN</td>\n",
       "      <td>2010</td>\n",
       "      <td>International Union for Conservation of Nature...</td>\n",
       "      <td>None</td>\n",
       "      <td>None</td>\n",
       "      <td>None</td>\n",
       "      <td>None</td>\n",
       "      <td>...</td>\n",
       "      <td>2012.1</td>\n",
       "      <td>ANIMALIA</td>\n",
       "      <td>CHORDATA</td>\n",
       "      <td>ACTINOPTERYGII</td>\n",
       "      <td>PERCIFORMES</td>\n",
       "      <td>POMACENTRIDAE</td>\n",
       "      <td>Stegastes</td>\n",
       "      <td>leucorus</td>\n",
       "      <td>VU</td>\n",
       "      <td>POLYGON ((-105.58995 21.89340, -105.56483 21.8...</td>\n",
       "    </tr>\n",
       "    <tr>\n",
       "      <th>2</th>\n",
       "      <td>183963.0</td>\n",
       "      <td>Stegastes leucorus</td>\n",
       "      <td>1</td>\n",
       "      <td>IUCN</td>\n",
       "      <td>2010</td>\n",
       "      <td>International Union for Conservation of Nature...</td>\n",
       "      <td>None</td>\n",
       "      <td>None</td>\n",
       "      <td>None</td>\n",
       "      <td>None</td>\n",
       "      <td>...</td>\n",
       "      <td>2012.1</td>\n",
       "      <td>ANIMALIA</td>\n",
       "      <td>CHORDATA</td>\n",
       "      <td>ACTINOPTERYGII</td>\n",
       "      <td>PERCIFORMES</td>\n",
       "      <td>POMACENTRIDAE</td>\n",
       "      <td>Stegastes</td>\n",
       "      <td>leucorus</td>\n",
       "      <td>VU</td>\n",
       "      <td>POLYGON ((-111.15962 19.01536, -111.15948 18.9...</td>\n",
       "    </tr>\n",
       "    <tr>\n",
       "      <th>3</th>\n",
       "      <td>183793.0</td>\n",
       "      <td>Chromis intercrusma</td>\n",
       "      <td>1</td>\n",
       "      <td>IUCN</td>\n",
       "      <td>2010</td>\n",
       "      <td>International Union for Conservation of Nature...</td>\n",
       "      <td>None</td>\n",
       "      <td>None</td>\n",
       "      <td>None</td>\n",
       "      <td>None</td>\n",
       "      <td>...</td>\n",
       "      <td>2012.1</td>\n",
       "      <td>ANIMALIA</td>\n",
       "      <td>CHORDATA</td>\n",
       "      <td>ACTINOPTERYGII</td>\n",
       "      <td>PERCIFORMES</td>\n",
       "      <td>POMACENTRIDAE</td>\n",
       "      <td>Chromis</td>\n",
       "      <td>intercrusma</td>\n",
       "      <td>LC</td>\n",
       "      <td>POLYGON ((-80.86500 -0.77894, -80.75930 -0.833...</td>\n",
       "    </tr>\n",
       "    <tr>\n",
       "      <th>4</th>\n",
       "      <td>183793.0</td>\n",
       "      <td>Chromis intercrusma</td>\n",
       "      <td>1</td>\n",
       "      <td>IUCN</td>\n",
       "      <td>2010</td>\n",
       "      <td>International Union for Conservation of Nature...</td>\n",
       "      <td>None</td>\n",
       "      <td>None</td>\n",
       "      <td>None</td>\n",
       "      <td>None</td>\n",
       "      <td>...</td>\n",
       "      <td>2012.1</td>\n",
       "      <td>ANIMALIA</td>\n",
       "      <td>CHORDATA</td>\n",
       "      <td>ACTINOPTERYGII</td>\n",
       "      <td>PERCIFORMES</td>\n",
       "      <td>POMACENTRIDAE</td>\n",
       "      <td>Chromis</td>\n",
       "      <td>intercrusma</td>\n",
       "      <td>LC</td>\n",
       "      <td>POLYGON ((-67.33922 -55.67610, -67.33755 -55.6...</td>\n",
       "    </tr>\n",
       "  </tbody>\n",
       "</table>\n",
       "<p>5 rows × 24 columns</p>\n",
       "</div>"
      ],
      "text/plain": [
       "      ID_NO             BINOMIAL  ORIGIN COMPILER  YEAR  \\\n",
       "0  183963.0   Stegastes leucorus       1     IUCN  2010   \n",
       "1  183963.0   Stegastes leucorus       1     IUCN  2010   \n",
       "2  183963.0   Stegastes leucorus       1     IUCN  2010   \n",
       "3  183793.0  Chromis intercrusma       1     IUCN  2010   \n",
       "4  183793.0  Chromis intercrusma       1     IUCN  2010   \n",
       "\n",
       "                                            CITATION SOURCE DIST_COMM ISLAND  \\\n",
       "0  International Union for Conservation of Nature...   None      None   None   \n",
       "1  International Union for Conservation of Nature...   None      None   None   \n",
       "2  International Union for Conservation of Nature...   None      None   None   \n",
       "3  International Union for Conservation of Nature...   None      None   None   \n",
       "4  International Union for Conservation of Nature...   None      None   None   \n",
       "\n",
       "  SUBSPECIES  ... RL_UPDATE KINGDOM_NA  PHYLUM_NAM      CLASS_NAME  \\\n",
       "0       None  ...    2012.1   ANIMALIA    CHORDATA  ACTINOPTERYGII   \n",
       "1       None  ...    2012.1   ANIMALIA    CHORDATA  ACTINOPTERYGII   \n",
       "2       None  ...    2012.1   ANIMALIA    CHORDATA  ACTINOPTERYGII   \n",
       "3       None  ...    2012.1   ANIMALIA    CHORDATA  ACTINOPTERYGII   \n",
       "4       None  ...    2012.1   ANIMALIA    CHORDATA  ACTINOPTERYGII   \n",
       "\n",
       "    ORDER_NAME     FAMILY_NAM GENUS_NAME   SPECIES_NA CATEGORY  \\\n",
       "0  PERCIFORMES  POMACENTRIDAE  Stegastes     leucorus       VU   \n",
       "1  PERCIFORMES  POMACENTRIDAE  Stegastes     leucorus       VU   \n",
       "2  PERCIFORMES  POMACENTRIDAE  Stegastes     leucorus       VU   \n",
       "3  PERCIFORMES  POMACENTRIDAE    Chromis  intercrusma       LC   \n",
       "4  PERCIFORMES  POMACENTRIDAE    Chromis  intercrusma       LC   \n",
       "\n",
       "                                            geometry  \n",
       "0  POLYGON ((-115.64375 29.71392, -115.61585 29.6...  \n",
       "1  POLYGON ((-105.58995 21.89340, -105.56483 21.8...  \n",
       "2  POLYGON ((-111.15962 19.01536, -111.15948 18.9...  \n",
       "3  POLYGON ((-80.86500 -0.77894, -80.75930 -0.833...  \n",
       "4  POLYGON ((-67.33922 -55.67610, -67.33755 -55.6...  \n",
       "\n",
       "[5 rows x 24 columns]"
      ]
     },
     "execution_count": 57,
     "metadata": {},
     "output_type": "execute_result"
    }
   ],
   "source": [
    "data.head()      #verileri tablo olarak okuma"
   ]
  },
  {
   "cell_type": "code",
   "execution_count": 58,
   "id": "a5c86360-1116-4fce-84b5-55aaa9a179a0",
   "metadata": {},
   "outputs": [],
   "source": [
    "#ayrıca verileri bir harita üzerinde de görebiliriz\n",
    "import matplotlib.pyplot as plt\n",
    "%matplotlib inline"
   ]
  },
  {
   "cell_type": "code",
   "execution_count": 59,
   "id": "fd2b6c91-2512-4324-aae2-b87a7ad0dcb3",
   "metadata": {},
   "outputs": [
    {
     "data": {
      "text/plain": [
       "<AxesSubplot:>"
      ]
     },
     "execution_count": 59,
     "metadata": {},
     "output_type": "execute_result"
    },
    {
     "data": {
      "image/png": "[encoded data removed]",
      "text/plain": [
       "<Figure size 432x288 with 1 Axes>"
      ]
     },
     "metadata": {
      "needs_background": "light"
     },
     "output_type": "display_data"
    }
   ],
   "source": [
    "data.plot()"
   ]
  },
  {
   "cell_type": "code",
   "execution_count": 60,
   "id": "a1225761-c743-494f-a1ee-1b39bbd1491a",
   "metadata": {},
   "outputs": [],
   "source": [
    "#shape dosyasına veri yazmak da mümkün"
   ]
  },
  {
   "cell_type": "code",
   "execution_count": 61,
   "id": "3e78ff25-c39a-4940-990d-5f22e22bf9fa",
   "metadata": {},
   "outputs": [],
   "source": [
    "#önce bir shp oluşturalım\n",
    "out_file_path = r\"C:\\Users\\Bilal Benzer\\Documents\\GitHub\\Python_Calismalarim-Python_Works_vscode\\GIS\\geopython\\geopython2021\\L2\\new_shp\""
   ]
  },
  {
   "cell_type": "code",
   "execution_count": 62,
   "id": "2435bbd0-43c5-4159-b458-6d43ef7dff87",
   "metadata": {},
   "outputs": [],
   "source": [
    "#50 satırı alalım sadece (0'dan 50'ye kadar)"
   ]
  },
  {
   "cell_type": "code",
   "execution_count": 63,
   "id": "fe0665fc-8612-493d-a27c-36c20d370a11",
   "metadata": {},
   "outputs": [],
   "source": [
    "selection = data[0:50]"
   ]
  },
  {
   "cell_type": "code",
   "execution_count": 64,
   "id": "481fe061-6c9f-44de-bace-42b72cc97327",
   "metadata": {},
   "outputs": [],
   "source": [
    "selection.to_file(out_file_path) # shape dosyasına bu şekilde yazıyoruz."
   ]
  },
  {
   "cell_type": "code",
   "execution_count": 65,
   "id": "abb7cce9-0b6d-4728-a80e-97cd7db4ecd7",
   "metadata": {},
   "outputs": [],
   "source": [
    "#geopandalarda geometriler"
   ]
  },
  {
   "cell_type": "code",
   "execution_count": 66,
   "id": "f2759afe-631c-4293-9aa5-6efd74dd670b",
   "metadata": {},
   "outputs": [],
   "source": [
    "#veri kaynağını tamamen alabileceğimiz gibi, istenilen kolonları da alabiliriz"
   ]
  },
  {
   "cell_type": "code",
   "execution_count": 67,
   "id": "3ab04ae8-b36f-421d-a59c-712a9ffce1d6",
   "metadata": {},
   "outputs": [
    {
     "data": {
      "text/plain": [
       "0    POLYGON ((-115.64375 29.71392, -115.61585 29.6...\n",
       "1    POLYGON ((-105.58995 21.89340, -105.56483 21.8...\n",
       "2    POLYGON ((-111.15962 19.01536, -111.15948 18.9...\n",
       "3    POLYGON ((-80.86500 -0.77894, -80.75930 -0.833...\n",
       "4    POLYGON ((-67.33922 -55.67610, -67.33755 -55.6...\n",
       "Name: geometry, dtype: geometry"
      ]
     },
     "execution_count": 67,
     "metadata": {},
     "output_type": "execute_result"
    }
   ],
   "source": [
    "data[\"geometry\"].head() #bu kod ile \"geometry\" kolonunu alabiliyoruz"
   ]
  },
  {
   "cell_type": "code",
   "execution_count": 68,
   "id": "ecae2c48-e153-4b8e-b9f5-ed22809ed0cb",
   "metadata": {},
   "outputs": [],
   "source": [
    "#bu veriler shape olarak depolandığı için shapely modülündeki her şeyi burada da kullanabiliriz\n",
    "#ilk 5 çokgenin isimlerini alalım"
   ]
  },
  {
   "cell_type": "code",
   "execution_count": 69,
   "id": "b50cc816-fda3-476a-86ed-2fa1ddc673b5",
   "metadata": {},
   "outputs": [],
   "source": [
    "selection = data[0:5]"
   ]
  },
  {
   "cell_type": "code",
   "execution_count": 70,
   "id": "23481ab0-7daa-4b32-8f10-88b8cd3329e3",
   "metadata": {},
   "outputs": [],
   "source": [
    "#geopandalarda belirli bir işlevi kullanarak seçili satırları yineleyebilir ve her çokgen için alanı yazdırabiliriz"
   ]
  },
  {
   "cell_type": "code",
   "execution_count": 71,
   "id": "1d9228a4-bcd1-4556-843c-2c1fea1db11e",
   "metadata": {},
   "outputs": [
    {
     "name": "stdout",
     "output_type": "stream",
     "text": [
      "çokgenin alanı 19.39625403004423\n",
      "çokgenin alanı 6.145902112999523\n",
      "çokgenin alanı 2.6972072716440176\n",
      "çokgenin alanı 87.46062072709621\n",
      "çokgenin alanı 0.0009183696153124292\n"
     ]
    }
   ],
   "source": [
    "for index,row in selection.iterrows():\n",
    "    poly_area = row[\"geometry\"].area\n",
    "    print(\"çokgenin alanı\",poly_area)\n",
    "#geopandas, pandas ın modülüdür.bu yüzden pandası çağırmadan pandaların tüm işlevlerini kullanabiliriz"
   ]
  },
  {
   "cell_type": "code",
   "execution_count": 72,
   "id": "830b8b4c-97b0-4cc6-a709-2d42fd7ce034",
   "metadata": {},
   "outputs": [],
   "source": [
    "#şimdi geodataframelerimize alanları tek tek çokgenleri hesaplayıp depoladığımız yeni bir sütun oluşturalım. "
   ]
  },
  {
   "cell_type": "code",
   "execution_count": 73,
   "id": "2b6dc630-7dba-47cb-bdad-f0c3f2625666",
   "metadata": {},
   "outputs": [
    {
     "name": "stderr",
     "output_type": "stream",
     "text": [
      "C:\\Anaconda3\\envs\\geopython\\lib\\site-packages\\ipykernel_launcher.py:2: UserWarning: Geometry is in a geographic CRS. Results from 'area' are likely incorrect. Use 'GeoSeries.to_crs()' to re-project geometries to a projected CRS before this operation.\n",
      "\n",
      "  \n"
     ]
    },
    {
     "data": {
      "text/plain": [
       "0    19.396254\n",
       "1     6.145902\n",
       "Name: area, dtype: float64"
      ]
     },
     "execution_count": 73,
     "metadata": {},
     "output_type": "execute_result"
    }
   ],
   "source": [
    "data = data.to_crs(epsg=4326) #shp dosyasında koordinat tanımı yoksa eğer, koordinat tanımlaması yapmamız gerekir\n",
    "data[\"area\"] = data.area\n",
    "data[\"area\"].head(2)\n",
    "#çokgenlerin alanları aşağıya yazılacak"
   ]
  },
  {
   "cell_type": "code",
   "execution_count": 74,
   "id": "b9f790cc-3209-479c-a9ea-fd84ec72c8cb",
   "metadata": {},
   "outputs": [],
   "source": [
    "#ilk çokgenlerin alanlarını çekmiş olduk.minimum ve maksimum değerleri de görebiliriz"
   ]
  },
  {
   "cell_type": "code",
   "execution_count": 75,
   "id": "bc55c774-11ce-4f1a-a774-b58a453cff8b",
   "metadata": {
    "jupyter": {
     "source_hidden": true
    },
    "tags": []
   },
   "outputs": [],
   "source": [
    "max_area = data[\"area\"].max() "
   ]
  },
  {
   "cell_type": "code",
   "execution_count": 76,
   "id": "28e4edf1-3765-475a-9eba-44d31b9be278",
   "metadata": {},
   "outputs": [],
   "source": [
    "mean_area = data[\"area\"].mean()"
   ]
  },
  {
   "cell_type": "code",
   "execution_count": 77,
   "id": "5f3aff39-a5c2-4952-b9ff-bc0a03b26436",
   "metadata": {},
   "outputs": [
    {
     "name": "stdout",
     "output_type": "stream",
     "text": [
      "1493.2009183643906 19.958433617208513\n"
     ]
    }
   ],
   "source": [
    "print(max_area,mean_area)"
   ]
  },
  {
   "cell_type": "code",
   "execution_count": 49,
   "id": "f39c9440-21a8-4bd7-8ba5-a43355962e05",
   "metadata": {},
   "outputs": [],
   "source": []
  },
  {
   "cell_type": "code",
   "execution_count": null,
   "id": "b758d421-586c-480a-8ee2-0e71ab1f338c",
   "metadata": {},
   "outputs": [],
   "source": []
  }
 ],
 "metadata": {
  "kernelspec": {
   "display_name": "geopython",
   "language": "python",
   "name": "geopython"
  },
  "language_info": {
   "codemirror_mode": {
    "name": "ipython",
    "version": 3
   },
   "file_extension": ".py",
   "mimetype": "text/x-python",
   "name": "python",
   "nbconvert_exporter": "python",
   "pygments_lexer": "ipython3",
   "version": "3.7.11"
  }
 },
 "nbformat": 4,
 "nbformat_minor": 5
}
