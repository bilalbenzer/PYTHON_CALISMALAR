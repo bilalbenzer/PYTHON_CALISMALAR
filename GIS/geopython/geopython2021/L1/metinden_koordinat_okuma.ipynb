{
 "cells": [
  {
   "cell_type": "code",
   "execution_count": 1,
   "id": "20502ceb-cf55-4b33-baba-a6c506d53563",
   "metadata": {},
   "outputs": [],
   "source": [
    "#metinden kordinat okuma"
   ]
  },
  {
   "cell_type": "code",
   "execution_count": 2,
   "id": "d2ab9022-591f-49c2-aa6c-a3992e5d828b",
   "metadata": {},
   "outputs": [],
   "source": [
    "import pandas as pd"
   ]
  },
  {
   "cell_type": "code",
   "execution_count": 4,
   "id": "875f9acc-c951-4284-884a-08a29b4f6b41",
   "metadata": {},
   "outputs": [],
   "source": [
    "df = pd.read_csv('C:/Users/Bilal Benzer/Documents/GitHub/Python_Calismalarim-Python_Works_vscode/GIS/geopython/geopython2021/L1/global-city-population-estimates.csv',sep=\";\",encoding='latin1')"
   ]
  },
  {
   "cell_type": "code",
   "execution_count": 5,
   "id": "f95f3fd5-4d9a-40f0-9ef5-3736d96699e6",
   "metadata": {},
   "outputs": [],
   "source": [
    "pd.set_option(\"max_columns\",20)\n",
    "#bu seçenek pandaya 20 satıra kadar okumasını söyler"
   ]
  },
  {
   "cell_type": "code",
   "execution_count": 6,
   "id": "4832c19e-2fad-443e-84fc-c5ac5ee30599",
   "metadata": {},
   "outputs": [
    {
     "name": "stdout",
     "output_type": "stream",
     "text": [
      "  Country or area Urban Agglomeration   Latitude   Longitude  Population_2015  \\\n",
      "0           Japan               Tokyo  35.689500  139.691710         38001018   \n",
      "1           India               Delhi  28.666670   77.216670         25703168   \n",
      "2           China            Shanghai  31.220000  121.460000         23740778   \n",
      "3          Brazil           S?o Paulo -23.550000  -46.640000         21066245   \n",
      "4           India     Mumbai (Bombay)  19.073975   72.880838         21042538   \n",
      "\n",
      "   Unnamed: 5  \n",
      "0         NaN  \n",
      "1         NaN  \n",
      "2         NaN  \n",
      "3         NaN  \n",
      "4         NaN  \n"
     ]
    }
   ],
   "source": [
    "print(df.head(5))"
   ]
  },
  {
   "cell_type": "code",
   "execution_count": 7,
   "id": "e36649d4-27da-4b2f-b3d9-dabc8d936b3b",
   "metadata": {},
   "outputs": [],
   "source": [
    "#csv verilerini okuduk. Şimdi de bu verilerden nokta oluşturacağız"
   ]
  },
  {
   "cell_type": "code",
   "execution_count": 30,
   "id": "b0aee09f-aac8-4fe9-8a9d-3e3e13e79861",
   "metadata": {},
   "outputs": [],
   "source": [
    "from shapely.geometry import Point\n",
    "def make_point(row):\n",
    "    return Point(row['Longitude'],row['Latitude'])\n",
    "#Pandalardan gelen bir satır nesnesini alan bir fonksiyon yapıyoruz. Satır başına tek alanlar, sütun adlarıyla adreslenir."
   ]
  },
  {
   "cell_type": "code",
   "execution_count": 31,
   "id": "4bd7508e-9767-4b5f-b554-cae4ccf274eb",
   "metadata": {},
   "outputs": [
    {
     "name": "stdout",
     "output_type": "stream",
     "text": [
      "  Country or area Urban Agglomeration   Latitude   Longitude  Population_2015  \\\n",
      "0           Japan               Tokyo  35.689500  139.691710         38001018   \n",
      "1           India               Delhi  28.666670   77.216670         25703168   \n",
      "2           China            Shanghai  31.220000  121.460000         23740778   \n",
      "3          Brazil           S?o Paulo -23.550000  -46.640000         21066245   \n",
      "4           India     Mumbai (Bombay)  19.073975   72.880838         21042538   \n",
      "\n",
      "   Unnamed: 5                              points  \n",
      "0         NaN           POINT (139.69171 35.6895)  \n",
      "1         NaN  POINT (77.21666999999999 28.66667)  \n",
      "2         NaN                POINT (121.46 31.22)  \n",
      "3         NaN               POINT (-46.64 -23.55)  \n",
      "4         NaN         POINT (72.880838 19.073975)  \n"
     ]
    }
   ],
   "source": [
    "df['points'] = df.apply(make_point, axis=1)\n",
    "#Her satırı gözden geçirin ve işlevi yukarıdan **uygulayarak** enlem ve boylamı bir noktaya getirin (sıra aşağı -> eksen=1)\n",
    "#[76]'da: df['points'] = df.apply(make_point, axis=1)\n",
    "print(df.head(5))"
   ]
  },
  {
   "cell_type": "code",
   "execution_count": null,
   "id": "76d265a3-ba57-4254-98f7-f3cbbb1ab31b",
   "metadata": {},
   "outputs": [],
   "source": []
  }
 ],
 "metadata": {
  "kernelspec": {
   "display_name": "geopython",
   "language": "python",
   "name": "geopython"
  },
  "language_info": {
   "codemirror_mode": {
    "name": "ipython",
    "version": 3
   },
   "file_extension": ".py",
   "mimetype": "text/x-python",
   "name": "python",
   "nbconvert_exporter": "python",
   "pygments_lexer": "ipython3",
   "version": "3.7.11"
  }
 },
 "nbformat": 4,
 "nbformat_minor": 5
}
