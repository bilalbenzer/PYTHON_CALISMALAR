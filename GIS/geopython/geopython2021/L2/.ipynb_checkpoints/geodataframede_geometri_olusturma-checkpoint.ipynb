{
 "cells": [
  {
   "cell_type": "code",
   "execution_count": 1,
   "id": "327787bf-e1c3-44f6-a378-c14a50503f3f",
   "metadata": {},
   "outputs": [],
   "source": [
    "#geopandalar, shapely geometrik nesnelerinden yararlandığından, shapelynin geometrik nesnelerini geodataframe ye geçirerek sıfırdan bir shp oluşturmak mümkün. \n",
    "#Bu, örneğin koordinatları içeren bir metin dosyasını bir shp ye dönüştürmeyi kolaylaştırdığı için kullanışlıdır"
   ]
  },
  {
   "cell_type": "code",
   "execution_count": 4,
   "id": "ab38944a-a80a-4f01-a4f6-769dbf194d9d",
   "metadata": {},
   "outputs": [],
   "source": [
    "import pandas as pd\n",
    "import geopandas as gpd\n",
    "from shapely.geometry import Point, Polygon, LineString\n",
    "import fiona"
   ]
  },
  {
   "cell_type": "code",
   "execution_count": 5,
   "id": "e03b9995-b1f0-4089-b172-8735fa6135de",
   "metadata": {},
   "outputs": [],
   "source": [
    "#boş bir geopandas data veritabanı oluşturma"
   ]
  },
  {
   "cell_type": "code",
   "execution_count": 8,
   "id": "7cca49f3-d0f0-4b9a-a49d-c01040e15ba3",
   "metadata": {},
   "outputs": [],
   "source": [
    "newdata = gpd.GeoDataFrame()"
   ]
  },
  {
   "cell_type": "code",
   "execution_count": 9,
   "id": "8fb9817f-cfa8-4fb0-8b00-d2d0b369e17c",
   "metadata": {},
   "outputs": [
    {
     "data": {
      "text/html": [
       "<div>\n",
       "<style scoped>\n",
       "    .dataframe tbody tr th:only-of-type {\n",
       "        vertical-align: middle;\n",
       "    }\n",
       "\n",
       "    .dataframe tbody tr th {\n",
       "        vertical-align: top;\n",
       "    }\n",
       "\n",
       "    .dataframe thead th {\n",
       "        text-align: right;\n",
       "    }\n",
       "</style>\n",
       "<table border=\"1\" class=\"dataframe\">\n",
       "  <thead>\n",
       "    <tr style=\"text-align: right;\">\n",
       "      <th></th>\n",
       "    </tr>\n",
       "  </thead>\n",
       "  <tbody>\n",
       "  </tbody>\n",
       "</table>\n",
       "</div>"
      ],
      "text/plain": [
       "Empty GeoDataFrame\n",
       "Columns: []\n",
       "Index: []"
      ]
     },
     "execution_count": 9,
     "metadata": {},
     "output_type": "execute_result"
    }
   ],
   "source": [
    "#içindekileri görelim\n",
    "newdata"
   ]
  },
  {
   "cell_type": "code",
   "execution_count": 10,
   "id": "f30dd751-7d0a-4bf1-b9c8-f9e9e07f345d",
   "metadata": {},
   "outputs": [],
   "source": [
    "newdata [\"geometry\"] = None \n",
    "#yeni bir geometry adında kolon oluşturduk"
   ]
  },
  {
   "cell_type": "code",
   "execution_count": 12,
   "id": "e34c5446-5211-4f37-b610-efd1b68f2d94",
   "metadata": {},
   "outputs": [
    {
     "data": {
      "text/html": [
       "<div>\n",
       "<style scoped>\n",
       "    .dataframe tbody tr th:only-of-type {\n",
       "        vertical-align: middle;\n",
       "    }\n",
       "\n",
       "    .dataframe tbody tr th {\n",
       "        vertical-align: top;\n",
       "    }\n",
       "\n",
       "    .dataframe thead th {\n",
       "        text-align: right;\n",
       "    }\n",
       "</style>\n",
       "<table border=\"1\" class=\"dataframe\">\n",
       "  <thead>\n",
       "    <tr style=\"text-align: right;\">\n",
       "      <th></th>\n",
       "      <th>geometry</th>\n",
       "    </tr>\n",
       "  </thead>\n",
       "  <tbody>\n",
       "  </tbody>\n",
       "</table>\n",
       "</div>"
      ],
      "text/plain": [
       "Empty GeoDataFrame\n",
       "Columns: [geometry]\n",
       "Index: []"
      ]
     },
     "execution_count": 12,
     "metadata": {},
     "output_type": "execute_result"
    }
   ],
   "source": [
    "#içindekilere bakalım\n",
    "newdata"
   ]
  },
  {
   "cell_type": "code",
   "execution_count": 13,
   "id": "38948dec-d1db-4080-996c-4f9fc9ad27c5",
   "metadata": {},
   "outputs": [],
   "source": [
    "#hala geodataframemiz boş. veri ekleyelim"
   ]
  },
  {
   "cell_type": "code",
   "execution_count": 14,
   "id": "f63437b1-cb89-40dc-bf15-953b897a9a6e",
   "metadata": {},
   "outputs": [],
   "source": [
    "#düzgün bir çokgen ekleyelim\n",
    "coordinates = [(26.722117, 58.380184), (26.724853, 58.380676), (26.724961, 58.380518), (26.722372, 58.379933)]"
   ]
  },
  {
   "cell_type": "code",
   "execution_count": 15,
   "id": "e0968e5c-53e3-459a-9af5-672ec953f4af",
   "metadata": {},
   "outputs": [],
   "source": [
    "#yukarıdaki koordinatlar ile bir poylgon oluşturalım\n",
    "poly = Polygon(coordinates)"
   ]
  },
  {
   "cell_type": "code",
   "execution_count": 16,
   "id": "55be8e3d-cfde-4ba9-a9fd-10533996e666",
   "metadata": {},
   "outputs": [
    {
     "data": {
      "image/svg+xml": [
       "<svg xmlns=\"http://www.w3.org/2000/svg\" xmlns:xlink=\"http://www.w3.org/1999/xlink\" width=\"100.0\" height=\"100.0\" viewBox=\"26.72200324 58.37981924 0.0030715200000024367 0.0009705199999956449\" preserveAspectRatio=\"xMinYMin meet\"><g transform=\"matrix(1,0,0,-1,0,116.760609)\"><path fill-rule=\"evenodd\" fill=\"#66cc99\" stroke=\"#555555\" stroke-width=\"6.143040000004874e-05\" opacity=\"0.6\" d=\"M 26.722117,58.380184 L 26.724853,58.380676 L 26.724961,58.380518 L 26.722372,58.379933 L 26.722117,58.380184 z\" /></g></svg>"
      ],
      "text/plain": [
       "<shapely.geometry.polygon.Polygon at 0x1fe15b6a988>"
      ]
     },
     "execution_count": 16,
     "metadata": {},
     "output_type": "execute_result"
    }
   ],
   "source": [
    "poly"
   ]
  },
  {
   "cell_type": "code",
   "execution_count": 17,
   "id": "5579e91e-70fc-461a-9e72-5f2f43a5c63f",
   "metadata": {},
   "outputs": [
    {
     "data": {
      "text/html": [
       "<div>\n",
       "<style scoped>\n",
       "    .dataframe tbody tr th:only-of-type {\n",
       "        vertical-align: middle;\n",
       "    }\n",
       "\n",
       "    .dataframe tbody tr th {\n",
       "        vertical-align: top;\n",
       "    }\n",
       "\n",
       "    .dataframe thead th {\n",
       "        text-align: right;\n",
       "    }\n",
       "</style>\n",
       "<table border=\"1\" class=\"dataframe\">\n",
       "  <thead>\n",
       "    <tr style=\"text-align: right;\">\n",
       "      <th></th>\n",
       "      <th>geometry</th>\n",
       "    </tr>\n",
       "  </thead>\n",
       "  <tbody>\n",
       "    <tr>\n",
       "      <th>0</th>\n",
       "      <td>POLYGON ((26.72212 58.38018, 26.72485 58.38068...</td>\n",
       "    </tr>\n",
       "  </tbody>\n",
       "</table>\n",
       "</div>"
      ],
      "text/plain": [
       "                                            geometry\n",
       "0  POLYGON ((26.72212 58.38018, 26.72485 58.38068..."
      ]
     },
     "execution_count": 17,
     "metadata": {},
     "output_type": "execute_result"
    }
   ],
   "source": [
    "#şimdi geodataframedeki geometri sütununa bu poligonu ekleyelim\n",
    "newdata.loc[0,\"geometry\"] = poly\n",
    "newdata"
   ]
  },
  {
   "cell_type": "code",
   "execution_count": 19,
   "id": "ff3673cf-9b1e-4db8-9e2e-27efc416b3e9",
   "metadata": {},
   "outputs": [
    {
     "data": {
      "text/html": [
       "<div>\n",
       "<style scoped>\n",
       "    .dataframe tbody tr th:only-of-type {\n",
       "        vertical-align: middle;\n",
       "    }\n",
       "\n",
       "    .dataframe tbody tr th {\n",
       "        vertical-align: top;\n",
       "    }\n",
       "\n",
       "    .dataframe thead th {\n",
       "        text-align: right;\n",
       "    }\n",
       "</style>\n",
       "<table border=\"1\" class=\"dataframe\">\n",
       "  <thead>\n",
       "    <tr style=\"text-align: right;\">\n",
       "      <th></th>\n",
       "      <th>geometry</th>\n",
       "      <th>Location</th>\n",
       "    </tr>\n",
       "  </thead>\n",
       "  <tbody>\n",
       "    <tr>\n",
       "      <th>0</th>\n",
       "      <td>POLYGON ((26.72212 58.38018, 26.72485 58.38068...</td>\n",
       "      <td>Tartu Townhall Square</td>\n",
       "    </tr>\n",
       "  </tbody>\n",
       "</table>\n",
       "</div>"
      ],
      "text/plain": [
       "                                            geometry               Location\n",
       "0  POLYGON ((26.72212 58.38018, 26.72485 58.38068...  Tartu Townhall Square"
      ]
     },
     "execution_count": 19,
     "metadata": {},
     "output_type": "execute_result"
    }
   ],
   "source": [
    "#artık bir shapefile a aktarabileceğimiz poligonlu bir geodataframe var\n",
    "#geodataframe ye bir sütun daha ekleyelim\n",
    "newdata.loc[0,\"Location\"] = \"Tartu Townhall Square\"\n",
    "newdata"
   ]
  },
  {
   "cell_type": "code",
   "execution_count": 21,
   "id": "4fe6a558-79f0-47e2-af5b-db17f30c202e",
   "metadata": {},
   "outputs": [
    {
     "name": "stdout",
     "output_type": "stream",
     "text": [
      "None\n"
     ]
    }
   ],
   "source": [
    "#bu şekilde öznitelik tablosu oluşturmuş oluyoruz aslında\n",
    "#verileri dışarı aktarmadan önce geodataframe için koordinat referans sistemini belirlemekte yarar var\n",
    "#mevcut koordinat sistemine bakalım\n",
    "print(newdata.crs)"
   ]
  },
  {
   "cell_type": "code",
   "execution_count": 22,
   "id": "c4c59fae-4b75-407c-a7d2-acf7e3c48fe4",
   "metadata": {},
   "outputs": [
    {
     "name": "stderr",
     "output_type": "stream",
     "text": [
      "C:\\Anaconda3\\envs\\geopython\\lib\\site-packages\\pyproj\\crs\\crs.py:53: FutureWarning: '+init=<authority>:<code>' syntax is deprecated. '<authority>:<code>' is the preferred initialization method. When making the change, be mindful of axis order changes: https://pyproj4.github.io/pyproj/stable/gotchas.html#axis-order-changes-in-proj-6\n",
      "  return _prepare_from_string(\" \".join(pjargs))\n"
     ]
    },
    {
     "data": {
      "text/plain": [
       "<Geographic 2D CRS: +init=epsg:4326 +no_defs +type=crs>\n",
       "Name: WGS 84\n",
       "Axis Info [ellipsoidal]:\n",
       "- lon[east]: Longitude (degree)\n",
       "- lat[north]: Latitude (degree)\n",
       "Area of Use:\n",
       "- name: World\n",
       "- bounds: (-180.0, -90.0, 180.0, 90.0)\n",
       "Datum: World Geodetic System 1984\n",
       "- Ellipsoid: WGS 84\n",
       "- Prime Meridian: Greenwich"
      ]
     },
     "execution_count": 22,
     "metadata": {},
     "output_type": "execute_result"
    }
   ],
   "source": [
    "#bu kısımda fiona aracılığı ile epsg koduyla koordinat sistemi alacağız\n",
    "from fiona.crs import from_epsg\n",
    "newdata.crs =from_epsg(4326) #wgs84 oolan 4326 koordinat sistemini aldık\n",
    "newdata.crs #koordinat sistemini görelim"
   ]
  },
  {
   "cell_type": "code",
   "execution_count": 23,
   "id": "d396819f-de9c-4cbe-92a4-c55462447b17",
   "metadata": {},
   "outputs": [],
   "source": [
    "#üstteki gibi hata var ise, doğrudan da epsg atabiliyoruz"
   ]
  },
  {
   "cell_type": "code",
   "execution_count": 25,
   "id": "24e50dbd-e594-47e5-acdd-76d9b9c53ce9",
   "metadata": {},
   "outputs": [],
   "source": [
    "newdata.crs = \"EPSG:4326\"\n",
    "#VEYA\n",
    "newdata.crs = 4326"
   ]
  },
  {
   "cell_type": "code",
   "execution_count": 26,
   "id": "b108174a-2eb0-4e66-b7d9-1ac32c5d786f",
   "metadata": {},
   "outputs": [
    {
     "data": {
      "text/plain": [
       "<Geographic 2D CRS: EPSG:4326>\n",
       "Name: WGS 84\n",
       "Axis Info [ellipsoidal]:\n",
       "- Lat[north]: Geodetic latitude (degree)\n",
       "- Lon[east]: Geodetic longitude (degree)\n",
       "Area of Use:\n",
       "- name: World\n",
       "- bounds: (-180.0, -90.0, 180.0, 90.0)\n",
       "Datum: World Geodetic System 1984\n",
       "- Ellipsoid: WGS 84\n",
       "- Prime Meridian: Greenwich"
      ]
     },
     "execution_count": 26,
     "metadata": {},
     "output_type": "execute_result"
    }
   ],
   "source": [
    "newdata.crs"
   ]
  },
  {
   "cell_type": "code",
   "execution_count": 27,
   "id": "8b4f6420-42a9-4ade-831e-da0bfa0ed466",
   "metadata": {},
   "outputs": [
    {
     "data": {
      "text/plain": [
       "<AxesSubplot:>"
      ]
     },
     "execution_count": 27,
     "metadata": {},
     "output_type": "execute_result"
    },
    {
     "data": {
      "image/png": "[encoded data removed]",
      "text/plain": [
       "<Figure size 432x288 with 1 Axes>"
      ]
     },
     "metadata": {
      "needs_background": "light"
     },
     "output_type": "display_data"
    }
   ],
   "source": [
    "newdata.plot()"
   ]
  },
  {
   "cell_type": "code",
   "execution_count": 28,
   "id": "38064f5c-a15b-4260-9658-67704ae63105",
   "metadata": {},
   "outputs": [],
   "source": [
    "#son olarak verileri dışarı aktarabiliriz. işlev numpy veya pandalara benzer şekilde çalışır ancak burada yalnızca shp için çıktı yolunu söylememiz gerek\n",
    "out_file = \"new_geodataframe_shp_file.shp\" # ----> burada çıktı yolunu gösteriyoruz"
   ]
  },
  {
   "cell_type": "code",
   "execution_count": 29,
   "id": "d803a3a3-0a66-4380-bc94-80734e2871b3",
   "metadata": {},
   "outputs": [],
   "source": [
    "newdata.to_file(out_file)"
   ]
  },
  {
   "cell_type": "code",
   "execution_count": 32,
   "id": "e0b0eb5e-b270-46b9-b9ce-1c6eb4021bb0",
   "metadata": {},
   "outputs": [],
   "source": [
    "####### PRATİK ÖRNEK: BİRDEN ÇOK SHP KAYDETME\n",
    "#geopandada, groupby() işlevi ile birden çok shp kaydedebiliriz\n",
    "data =gpd.read_file(\"DAMSELFISH_distributions.shp\")"
   ]
  },
  {
   "cell_type": "code",
   "execution_count": 34,
   "id": "f0b2a3cc-5855-4bce-9ca5-c50b5c3602f2",
   "metadata": {},
   "outputs": [],
   "source": [
    "# binominal sütununa göre gruplama yapalım\n",
    "grouped = data.groupby(\"BINOMIAL\")"
   ]
  },
  {
   "cell_type": "code",
   "execution_count": 35,
   "id": "2610b985-6e73-4cca-bfce-090d5d56df5b",
   "metadata": {},
   "outputs": [
    {
     "data": {
      "text/plain": [
       "<pandas.core.groupby.generic.DataFrameGroupBy object at 0x000001FE188A59C8>"
      ]
     },
     "execution_count": 35,
     "metadata": {},
     "output_type": "execute_result"
    }
   ],
   "source": [
    "#gropued de neler olduğuna bakalım\n",
    "grouped"
   ]
  },
  {
   "cell_type": "code",
   "execution_count": 36,
   "id": "60ab72eb-b64b-43f6-a2a6-ae0c25cccba5",
   "metadata": {},
   "outputs": [
    {
     "name": "stdout",
     "output_type": "stream",
     "text": [
      "Abudefduf concolor\n",
      "Abudefduf declivifrons\n",
      "Abudefduf troschelii\n",
      "Amphiprion sandaracinos\n",
      "Azurina eupalama\n",
      "Azurina hirundo\n",
      "Chromis alpha\n",
      "Chromis alta\n",
      "Chromis atrilobata\n",
      "Chromis crusma\n",
      "Chromis cyanea\n",
      "Chromis flavicauda\n",
      "Chromis intercrusma\n",
      "Chromis limbaughi\n",
      "Chromis pembae\n",
      "Chromis punctipinnis\n",
      "Chrysiptera flavipinnis\n",
      "Hypsypops rubicundus\n",
      "Microspathodon bairdii\n",
      "Microspathodon dorsalis\n",
      "Nexilosus latifrons\n",
      "Stegastes acapulcoensis\n",
      "Stegastes arcifrons\n",
      "Stegastes baldwini\n",
      "Stegastes beebei\n",
      "Stegastes flavilatus\n",
      "Stegastes leucorus\n",
      "Stegastes rectifraenum\n",
      "Stegastes redemptus\n",
      "Teixeirichthys jordani\n"
     ]
    }
   ],
   "source": [
    "#grup nesnesi üzerinde yenileme\n",
    "for key,values in grouped:\n",
    "    individual_fish = values\n",
    "    print(key)"
   ]
  },
  {
   "cell_type": "code",
   "execution_count": 37,
   "id": "c66bc279-b088-4846-9272-7792c42917a7",
   "metadata": {},
   "outputs": [
    {
     "data": {
      "text/html": [
       "<div>\n",
       "<style scoped>\n",
       "    .dataframe tbody tr th:only-of-type {\n",
       "        vertical-align: middle;\n",
       "    }\n",
       "\n",
       "    .dataframe tbody tr th {\n",
       "        vertical-align: top;\n",
       "    }\n",
       "\n",
       "    .dataframe thead th {\n",
       "        text-align: right;\n",
       "    }\n",
       "</style>\n",
       "<table border=\"1\" class=\"dataframe\">\n",
       "  <thead>\n",
       "    <tr style=\"text-align: right;\">\n",
       "      <th></th>\n",
       "      <th>ID_NO</th>\n",
       "      <th>BINOMIAL</th>\n",
       "      <th>ORIGIN</th>\n",
       "      <th>COMPILER</th>\n",
       "      <th>YEAR</th>\n",
       "      <th>CITATION</th>\n",
       "      <th>SOURCE</th>\n",
       "      <th>DIST_COMM</th>\n",
       "      <th>ISLAND</th>\n",
       "      <th>SUBSPECIES</th>\n",
       "      <th>...</th>\n",
       "      <th>RL_UPDATE</th>\n",
       "      <th>KINGDOM_NA</th>\n",
       "      <th>PHYLUM_NAM</th>\n",
       "      <th>CLASS_NAME</th>\n",
       "      <th>ORDER_NAME</th>\n",
       "      <th>FAMILY_NAM</th>\n",
       "      <th>GENUS_NAME</th>\n",
       "      <th>SPECIES_NA</th>\n",
       "      <th>CATEGORY</th>\n",
       "      <th>geometry</th>\n",
       "    </tr>\n",
       "  </thead>\n",
       "  <tbody>\n",
       "    <tr>\n",
       "      <th>27</th>\n",
       "      <td>154915.0</td>\n",
       "      <td>Teixeirichthys jordani</td>\n",
       "      <td>1</td>\n",
       "      <td>None</td>\n",
       "      <td>2012</td>\n",
       "      <td>Red List Index (Sampled Approach), Zoological ...</td>\n",
       "      <td>None</td>\n",
       "      <td>None</td>\n",
       "      <td>None</td>\n",
       "      <td>None</td>\n",
       "      <td>...</td>\n",
       "      <td>2012.2</td>\n",
       "      <td>ANIMALIA</td>\n",
       "      <td>CHORDATA</td>\n",
       "      <td>ACTINOPTERYGII</td>\n",
       "      <td>PERCIFORMES</td>\n",
       "      <td>POMACENTRIDAE</td>\n",
       "      <td>Teixeirichthys</td>\n",
       "      <td>jordani</td>\n",
       "      <td>LC</td>\n",
       "      <td>POLYGON ((121.63003 33.04249, 121.63219 33.042...</td>\n",
       "    </tr>\n",
       "    <tr>\n",
       "      <th>28</th>\n",
       "      <td>154915.0</td>\n",
       "      <td>Teixeirichthys jordani</td>\n",
       "      <td>1</td>\n",
       "      <td>None</td>\n",
       "      <td>2012</td>\n",
       "      <td>Red List Index (Sampled Approach), Zoological ...</td>\n",
       "      <td>None</td>\n",
       "      <td>None</td>\n",
       "      <td>None</td>\n",
       "      <td>None</td>\n",
       "      <td>...</td>\n",
       "      <td>2012.2</td>\n",
       "      <td>ANIMALIA</td>\n",
       "      <td>CHORDATA</td>\n",
       "      <td>ACTINOPTERYGII</td>\n",
       "      <td>PERCIFORMES</td>\n",
       "      <td>POMACENTRIDAE</td>\n",
       "      <td>Teixeirichthys</td>\n",
       "      <td>jordani</td>\n",
       "      <td>LC</td>\n",
       "      <td>POLYGON ((32.56219 29.97489, 32.56497 29.96967...</td>\n",
       "    </tr>\n",
       "    <tr>\n",
       "      <th>29</th>\n",
       "      <td>154915.0</td>\n",
       "      <td>Teixeirichthys jordani</td>\n",
       "      <td>1</td>\n",
       "      <td>None</td>\n",
       "      <td>2012</td>\n",
       "      <td>Red List Index (Sampled Approach), Zoological ...</td>\n",
       "      <td>None</td>\n",
       "      <td>None</td>\n",
       "      <td>None</td>\n",
       "      <td>None</td>\n",
       "      <td>...</td>\n",
       "      <td>2012.2</td>\n",
       "      <td>ANIMALIA</td>\n",
       "      <td>CHORDATA</td>\n",
       "      <td>ACTINOPTERYGII</td>\n",
       "      <td>PERCIFORMES</td>\n",
       "      <td>POMACENTRIDAE</td>\n",
       "      <td>Teixeirichthys</td>\n",
       "      <td>jordani</td>\n",
       "      <td>LC</td>\n",
       "      <td>POLYGON ((130.90521 34.02498, 130.90710 34.022...</td>\n",
       "    </tr>\n",
       "    <tr>\n",
       "      <th>30</th>\n",
       "      <td>154915.0</td>\n",
       "      <td>Teixeirichthys jordani</td>\n",
       "      <td>1</td>\n",
       "      <td>None</td>\n",
       "      <td>2012</td>\n",
       "      <td>Red List Index (Sampled Approach), Zoological ...</td>\n",
       "      <td>None</td>\n",
       "      <td>None</td>\n",
       "      <td>None</td>\n",
       "      <td>None</td>\n",
       "      <td>...</td>\n",
       "      <td>2012.2</td>\n",
       "      <td>ANIMALIA</td>\n",
       "      <td>CHORDATA</td>\n",
       "      <td>ACTINOPTERYGII</td>\n",
       "      <td>PERCIFORMES</td>\n",
       "      <td>POMACENTRIDAE</td>\n",
       "      <td>Teixeirichthys</td>\n",
       "      <td>jordani</td>\n",
       "      <td>LC</td>\n",
       "      <td>POLYGON ((56.32233 -3.70727, 56.32294 -3.70872...</td>\n",
       "    </tr>\n",
       "    <tr>\n",
       "      <th>31</th>\n",
       "      <td>154915.0</td>\n",
       "      <td>Teixeirichthys jordani</td>\n",
       "      <td>1</td>\n",
       "      <td>None</td>\n",
       "      <td>2012</td>\n",
       "      <td>Red List Index (Sampled Approach), Zoological ...</td>\n",
       "      <td>None</td>\n",
       "      <td>None</td>\n",
       "      <td>None</td>\n",
       "      <td>None</td>\n",
       "      <td>...</td>\n",
       "      <td>2012.2</td>\n",
       "      <td>ANIMALIA</td>\n",
       "      <td>CHORDATA</td>\n",
       "      <td>ACTINOPTERYGII</td>\n",
       "      <td>PERCIFORMES</td>\n",
       "      <td>POMACENTRIDAE</td>\n",
       "      <td>Teixeirichthys</td>\n",
       "      <td>jordani</td>\n",
       "      <td>LC</td>\n",
       "      <td>POLYGON ((40.64476 -10.85502, 40.64600 -10.855...</td>\n",
       "    </tr>\n",
       "    <tr>\n",
       "      <th>32</th>\n",
       "      <td>154915.0</td>\n",
       "      <td>Teixeirichthys jordani</td>\n",
       "      <td>1</td>\n",
       "      <td>None</td>\n",
       "      <td>2012</td>\n",
       "      <td>Red List Index (Sampled Approach), Zoological ...</td>\n",
       "      <td>None</td>\n",
       "      <td>None</td>\n",
       "      <td>None</td>\n",
       "      <td>None</td>\n",
       "      <td>...</td>\n",
       "      <td>2012.2</td>\n",
       "      <td>ANIMALIA</td>\n",
       "      <td>CHORDATA</td>\n",
       "      <td>ACTINOPTERYGII</td>\n",
       "      <td>PERCIFORMES</td>\n",
       "      <td>POMACENTRIDAE</td>\n",
       "      <td>Teixeirichthys</td>\n",
       "      <td>jordani</td>\n",
       "      <td>LC</td>\n",
       "      <td>POLYGON ((48.11258 -9.33510, 48.11406 -9.33614...</td>\n",
       "    </tr>\n",
       "    <tr>\n",
       "      <th>33</th>\n",
       "      <td>154915.0</td>\n",
       "      <td>Teixeirichthys jordani</td>\n",
       "      <td>1</td>\n",
       "      <td>None</td>\n",
       "      <td>2012</td>\n",
       "      <td>Red List Index (Sampled Approach), Zoological ...</td>\n",
       "      <td>None</td>\n",
       "      <td>None</td>\n",
       "      <td>None</td>\n",
       "      <td>None</td>\n",
       "      <td>...</td>\n",
       "      <td>2012.2</td>\n",
       "      <td>ANIMALIA</td>\n",
       "      <td>CHORDATA</td>\n",
       "      <td>ACTINOPTERYGII</td>\n",
       "      <td>PERCIFORMES</td>\n",
       "      <td>POMACENTRIDAE</td>\n",
       "      <td>Teixeirichthys</td>\n",
       "      <td>jordani</td>\n",
       "      <td>LC</td>\n",
       "      <td>POLYGON ((51.75404 -9.21679, 51.75532 -9.21879...</td>\n",
       "    </tr>\n",
       "  </tbody>\n",
       "</table>\n",
       "<p>7 rows × 24 columns</p>\n",
       "</div>"
      ],
      "text/plain": [
       "       ID_NO                BINOMIAL  ORIGIN COMPILER  YEAR  \\\n",
       "27  154915.0  Teixeirichthys jordani       1     None  2012   \n",
       "28  154915.0  Teixeirichthys jordani       1     None  2012   \n",
       "29  154915.0  Teixeirichthys jordani       1     None  2012   \n",
       "30  154915.0  Teixeirichthys jordani       1     None  2012   \n",
       "31  154915.0  Teixeirichthys jordani       1     None  2012   \n",
       "32  154915.0  Teixeirichthys jordani       1     None  2012   \n",
       "33  154915.0  Teixeirichthys jordani       1     None  2012   \n",
       "\n",
       "                                             CITATION SOURCE DIST_COMM ISLAND  \\\n",
       "27  Red List Index (Sampled Approach), Zoological ...   None      None   None   \n",
       "28  Red List Index (Sampled Approach), Zoological ...   None      None   None   \n",
       "29  Red List Index (Sampled Approach), Zoological ...   None      None   None   \n",
       "30  Red List Index (Sampled Approach), Zoological ...   None      None   None   \n",
       "31  Red List Index (Sampled Approach), Zoological ...   None      None   None   \n",
       "32  Red List Index (Sampled Approach), Zoological ...   None      None   None   \n",
       "33  Red List Index (Sampled Approach), Zoological ...   None      None   None   \n",
       "\n",
       "   SUBSPECIES  ... RL_UPDATE KINGDOM_NA  PHYLUM_NAM      CLASS_NAME  \\\n",
       "27       None  ...    2012.2   ANIMALIA    CHORDATA  ACTINOPTERYGII   \n",
       "28       None  ...    2012.2   ANIMALIA    CHORDATA  ACTINOPTERYGII   \n",
       "29       None  ...    2012.2   ANIMALIA    CHORDATA  ACTINOPTERYGII   \n",
       "30       None  ...    2012.2   ANIMALIA    CHORDATA  ACTINOPTERYGII   \n",
       "31       None  ...    2012.2   ANIMALIA    CHORDATA  ACTINOPTERYGII   \n",
       "32       None  ...    2012.2   ANIMALIA    CHORDATA  ACTINOPTERYGII   \n",
       "33       None  ...    2012.2   ANIMALIA    CHORDATA  ACTINOPTERYGII   \n",
       "\n",
       "     ORDER_NAME     FAMILY_NAM      GENUS_NAME SPECIES_NA CATEGORY  \\\n",
       "27  PERCIFORMES  POMACENTRIDAE  Teixeirichthys    jordani       LC   \n",
       "28  PERCIFORMES  POMACENTRIDAE  Teixeirichthys    jordani       LC   \n",
       "29  PERCIFORMES  POMACENTRIDAE  Teixeirichthys    jordani       LC   \n",
       "30  PERCIFORMES  POMACENTRIDAE  Teixeirichthys    jordani       LC   \n",
       "31  PERCIFORMES  POMACENTRIDAE  Teixeirichthys    jordani       LC   \n",
       "32  PERCIFORMES  POMACENTRIDAE  Teixeirichthys    jordani       LC   \n",
       "33  PERCIFORMES  POMACENTRIDAE  Teixeirichthys    jordani       LC   \n",
       "\n",
       "                                             geometry  \n",
       "27  POLYGON ((121.63003 33.04249, 121.63219 33.042...  \n",
       "28  POLYGON ((32.56219 29.97489, 32.56497 29.96967...  \n",
       "29  POLYGON ((130.90521 34.02498, 130.90710 34.022...  \n",
       "30  POLYGON ((56.32233 -3.70727, 56.32294 -3.70872...  \n",
       "31  POLYGON ((40.64476 -10.85502, 40.64600 -10.855...  \n",
       "32  POLYGON ((48.11258 -9.33510, 48.11406 -9.33614...  \n",
       "33  POLYGON ((51.75404 -9.21679, 51.75532 -9.21879...  \n",
       "\n",
       "[7 rows x 24 columns]"
      ]
     },
     "execution_count": 37,
     "metadata": {},
     "output_type": "execute_result"
    }
   ],
   "source": [
    "#yinelediğimiz son öğenin ne olduğuna bakalım\n",
    "individual_fish"
   ]
  },
  {
   "cell_type": "code",
   "execution_count": 39,
   "id": "3531226e-342c-476b-9a4d-5d7a36246e3e",
   "metadata": {},
   "outputs": [
    {
     "data": {
      "text/plain": [
       "geopandas.geodataframe.GeoDataFrame"
      ]
     },
     "execution_count": 39,
     "metadata": {},
     "output_type": "execute_result"
    }
   ],
   "source": [
    "type(individual_fish)"
   ]
  },
  {
   "cell_type": "code",
   "execution_count": 40,
   "id": "0ceb6010-3406-4b43-8c5c-81c69b52f810",
   "metadata": {},
   "outputs": [
    {
     "name": "stdout",
     "output_type": "stream",
     "text": [
      "Teixeirichthys jordani\n"
     ]
    }
   ],
   "source": [
    "print(key)"
   ]
  },
  {
   "cell_type": "code",
   "execution_count": 41,
   "id": "b2ea10d2-7fc8-4575-bf3a-97c3e28e967d",
   "metadata": {},
   "outputs": [],
   "source": [
    "#yukarıdaki bir türe ait ögeleri grup yaptık. şimdi diğerlerini de yaparak hepsini shp ye aktaralım"
   ]
  },
  {
   "cell_type": "code",
   "execution_count": 43,
   "id": "8a0b85e9-8ce2-442e-8c1d-563e36354fec",
   "metadata": {},
   "outputs": [],
   "source": [
    "import os"
   ]
  },
  {
   "cell_type": "code",
   "execution_count": 45,
   "id": "9c43a589-a5b9-4c01-ab48-a36d5400437e",
   "metadata": {},
   "outputs": [
    {
     "name": "stdout",
     "output_type": "stream",
     "text": [
      "işliyor... Abudefduf-concolor.shp\n",
      "işliyor... Abudefduf-declivifrons.shp\n",
      "işliyor... Abudefduf-troschelii.shp\n",
      "işliyor... Amphiprion-sandaracinos.shp\n",
      "işliyor... Azurina-eupalama.shp\n",
      "işliyor... Azurina-hirundo.shp\n",
      "işliyor... Chromis-alpha.shp\n",
      "işliyor... Chromis-alta.shp\n",
      "işliyor... Chromis-atrilobata.shp\n",
      "işliyor... Chromis-crusma.shp\n",
      "işliyor... Chromis-cyanea.shp\n",
      "işliyor... Chromis-flavicauda.shp\n",
      "işliyor... Chromis-intercrusma.shp\n",
      "işliyor... Chromis-limbaughi.shp\n",
      "işliyor... Chromis-pembae.shp\n",
      "işliyor... Chromis-punctipinnis.shp\n",
      "işliyor... Chrysiptera-flavipinnis.shp\n",
      "işliyor... Hypsypops-rubicundus.shp\n",
      "işliyor... Microspathodon-bairdii.shp\n",
      "işliyor... Microspathodon-dorsalis.shp\n",
      "işliyor... Nexilosus-latifrons.shp\n",
      "işliyor... Stegastes-acapulcoensis.shp\n",
      "işliyor... Stegastes-arcifrons.shp\n",
      "işliyor... Stegastes-baldwini.shp\n",
      "işliyor... Stegastes-beebei.shp\n",
      "işliyor... Stegastes-flavilatus.shp\n",
      "işliyor... Stegastes-leucorus.shp\n",
      "işliyor... Stegastes-rectifraenum.shp\n",
      "işliyor... Stegastes-redemptus.shp\n",
      "işliyor... Teixeirichthys-jordani.shp\n"
     ]
    }
   ],
   "source": [
    "#çıkış yolunu belirleyelim\n",
    "result_folder = \"results\"\n",
    "#result klasörü yoksa oluşturuyoruz if ile\n",
    "if not os.path.exists(result_folder):\n",
    "    os.makedirs(result_folder)\n",
    "#yineleme yapalım\n",
    "for key,values in grouped:\n",
    "    #boşlukları _ ile değiştirmekte fayda var\n",
    "    updated_key = key.replace(\" \",\"-\")\n",
    "    out_name = updated_key +\".shp\"\n",
    "    #kullanıcı için bazı bilgiler de verelim\n",
    "    print(\"işliyor...\",out_name)\n",
    "    #bir çıktı yolu oluşturalım. eğik çizgi ve ters eğik çizgiye dikkat edelim\n",
    "    outpath = os.path.join(result_folder,out_name)\n",
    "    #verileri aktaralım\n",
    "    values.to_file(outpath)"
   ]
  },
  {
   "cell_type": "code",
   "execution_count": null,
   "id": "3cf06218-17fa-4264-b1da-6f9a1e654428",
   "metadata": {},
   "outputs": [],
   "source": []
  }
 ],
 "metadata": {
  "kernelspec": {
   "display_name": "geopython",
   "language": "python",
   "name": "geopython"
  },
  "language_info": {
   "codemirror_mode": {
    "name": "ipython",
    "version": 3
   },
   "file_extension": ".py",
   "mimetype": "text/x-python",
   "name": "python",
   "nbconvert_exporter": "python",
   "pygments_lexer": "ipython3",
   "version": "3.7.11"
  }
 },
 "nbformat": 4,
 "nbformat_minor": 5
}
